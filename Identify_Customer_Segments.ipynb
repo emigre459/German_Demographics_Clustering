{
 "cells": [
  {
   "cell_type": "markdown",
   "metadata": {
    "toc-hr-collapsed": true
   },
   "source": [
    "# Project: Identify Customer Segments\n",
    "\n",
    "In this project, you will apply unsupervised learning techniques to identify segments of the population that form the core customer base for a mail-order sales company in Germany. These segments can then be used to direct marketing campaigns towards audiences that will have the highest expected rate of returns. The data that you will use has been provided by our partners at Bertelsmann Arvato Analytics, and represents a real-life data science task.\n",
    "\n",
    "This notebook will help you complete this task by providing a framework within which you will perform your analysis steps. In each step of the project, you will see some text describing the subtask that you will perform, followed by one or more code cells for you to complete your work. **Feel free to add additional code and markdown cells as you go along so that you can explore everything in precise chunks.** The code cells provided in the base template will outline only the major tasks, and will usually not be enough to cover all of the minor tasks that comprise it.\n",
    "\n",
    "It should be noted that while there will be precise guidelines on how you should handle certain tasks in the project, there will also be places where an exact specification is not provided. **There will be times in the project where you will need to make and justify your own decisions on how to treat the data.** These are places where there may not be only one way to handle the data. In real-life tasks, there may be many valid ways to approach an analysis task. One of the most important things you can do is clearly document your approach so that other scientists can understand the decisions you've made.\n",
    "\n",
    "At the end of most sections, there will be a Markdown cell labeled **Discussion**. In these cells, you will report your findings for the completed section, as well as document the decisions that you made in your approach to each subtask. **Your project will be evaluated not just on the code used to complete the tasks outlined, but also your communication about your observations and conclusions at each stage.**"
   ]
  },
  {
   "cell_type": "code",
   "execution_count": null,
   "metadata": {},
   "outputs": [],
   "source": [
    "# import libraries here; add more as necessary\n",
    "import numpy as np\n",
    "import pandas as pd\n",
    "import matplotlib.pyplot as plt\n",
    "import seaborn as sns\n",
    "import plotly_express as px\n",
    "import pandas_profiling as pdp\n",
    "\n",
    "# magic word for producing visualizations in notebook\n",
    "%matplotlib inline\n",
    "\n",
    "# Setup some nice defaults for dataframe display\n",
    "pd.set_option(\"display.max_columns\", 85)\n",
    "pd.set_option(\"display.max_rows\", 85)"
   ]
  },
  {
   "cell_type": "markdown",
   "metadata": {},
   "source": [
    "### Step 0: Load the Data\n",
    "\n",
    "There are four files associated with this project (not including this one):\n",
    "\n",
    "- `Udacity_AZDIAS_Subset.csv`: Demographics data for the general population of Germany; 891211 persons (rows) x 85 features (columns).\n",
    "- `Udacity_CUSTOMERS_Subset.csv`: Demographics data for customers of a mail-order company; 191652 persons (rows) x 85 features (columns).\n",
    "- `Data_Dictionary.md`: Detailed information file about the features in the provided datasets.\n",
    "- `AZDIAS_Feature_Summary.csv`: Summary of feature attributes for demographics data; 85 features (rows) x 4 columns\n",
    "\n",
    "Each row of the demographics files represents a single person, but also includes information outside of individuals, including information about their household, building, and neighborhood. You will use this information to cluster the general population into groups with similar demographic properties. Then, you will see how the people in the customers dataset fit into those created clusters. The hope here is that certain clusters are over-represented in the customers data, as compared to the general population; those over-represented clusters will be assumed to be part of the core userbase. This information can then be used for further applications, such as targeting for a marketing campaign.\n",
    "\n",
    "To start off with, load in the demographics data for the general population into a pandas DataFrame, and do the same for the feature attributes summary. Note for all of the `.csv` data files in this project: they're semicolon (`;`) delimited, so you'll need an additional argument in your [`read_csv()`](https://pandas.pydata.org/pandas-docs/stable/generated/pandas.read_csv.html) call to read in the data properly. Also, considering the size of the main dataset, it may take some time for it to load completely.\n",
    "\n",
    "Once the dataset is loaded, it's recommended that you take a little bit of time just browsing the general structure of the dataset and feature summary file. You'll be getting deep into the innards of the cleaning in the first major step of the project, so gaining some general familiarity can help you get your bearings."
   ]
  },
  {
   "cell_type": "code",
   "execution_count": null,
   "metadata": {},
   "outputs": [],
   "source": [
    "# Load in the general demographics data.\n",
    "gen_pop = pd.read_csv('data/Udacity_AZDIAS_Subset.csv', sep=';')\n",
    "gen_pop.head()"
   ]
  },
  {
   "cell_type": "code",
   "execution_count": null,
   "metadata": {},
   "outputs": [],
   "source": [
    "# Load in the feature summary file.\n",
    "feat_info = pd.read_csv('data/AZDIAS_Feature_Summary.csv', sep=';')\n",
    "feat_info"
   ]
  },
  {
   "cell_type": "code",
   "execution_count": null,
   "metadata": {},
   "outputs": [],
   "source": [
    "# Check the structure of the data after it's loaded (e.g. print the number of\n",
    "# rows and columns, print the first few rows).\n",
    "\n",
    "gen_pop.info(memory_usage='deep')"
   ]
  },
  {
   "cell_type": "markdown",
   "metadata": {},
   "source": [
    "**That's weird. This says that I have 891,221 rows but the data dictionary and Udacity project page indicate that there should be 10 fewer entries than that, 891,211.** A typo in the data dictionary page perhaps? Or maybe the data have been updated? \n",
    "\n",
    "Or perhaps something more nefarious?"
   ]
  },
  {
   "cell_type": "code",
   "execution_count": null,
   "metadata": {
    "toc-hr-collapsed": false
   },
   "outputs": [],
   "source": [
    "# Do some quick automated EDA\n",
    "# This will help especially in indicating the original amount of naturally missing data\n",
    "# prior to mapping the missing/unknown value codes to np.nan\n",
    "\n",
    "pdp.ProfileReport(gen_pop)\n"
   ]
  },
  {
   "cell_type": "markdown",
   "metadata": {
    "toc-hr-collapsed": false
   },
   "source": [
    "## Step 1: Preprocessing\n",
    "\n",
    "### Step 1.1: Assess Missing Data\n",
    "\n",
    "The feature summary file contains a summary of properties for each demographics data column. You will use this file to help you make cleaning decisions during this stage of the project. First of all, you should assess the demographics data in terms of missing data. Pay attention to the following points as you perform your analysis, and take notes on what you observe. Make sure that you fill in the **Discussion** cell with your findings and decisions at the end of each step that has one!\n",
    "\n",
    "#### Step 1.1.1: Convert Missing Value Codes to NaNs\n",
    "The fourth column of the feature attributes summary (loaded in above as `feat_info`) documents the codes from the data dictionary that indicate missing or unknown data. While the file encodes this as a list (e.g. `[-1,0]`), this will get read in as a string object. You'll need to do a little bit of parsing to make use of it to identify and clean the data. Convert data that matches a 'missing' or 'unknown' value code into a numpy NaN value. You might want to see how much data takes on a 'missing' or 'unknown' code, and how much data is naturally missing, as a point of interest.\n",
    "\n",
    "**As one more reminder, you are encouraged to add additional cells to break up your analysis into manageable chunks.**"
   ]
  },
  {
   "cell_type": "code",
   "execution_count": null,
   "metadata": {},
   "outputs": [],
   "source": [
    "# Look at naturally missing data first\n",
    "\n",
    "missing = pd.DataFrame(gen_pop.isnull().sum()).rename(columns = {0: 'total missing'})\n",
    "missing['percent missing'] = round(missing['total missing'] / len(gen_pop),2)\n",
    "missing.sort_values('total missing', ascending = False, inplace=True)\n",
    "missing"
   ]
  },
  {
   "cell_type": "code",
   "execution_count": null,
   "metadata": {},
   "outputs": [],
   "source": [
    "none_missing_count = len(missing[missing['total missing'] > 0])\n",
    "print(\n",
    "    f\"{none_missing_count} columns have a nonzero number of naturally missing values\")\n"
   ]
  },
  {
   "cell_type": "markdown",
   "metadata": {},
   "source": [
    "**Oof, looks like the consumer behavior type (`KK_KUNDENTYP`) is pretty sorely lacking values.** Hard to say if it will be the dominant \"missing value\" feature once we fill in the coded missing values with `np.nan`, but given that it's more than 60% missing I'll probably need to drop it as a feature. In my experience, features with that many missing values are rarely useful for modeling."
   ]
  },
  {
   "cell_type": "code",
   "execution_count": null,
   "metadata": {},
   "outputs": [],
   "source": [
    "# How many rows have at least one missing value?\n",
    "rows_oneMissing = len(gen_pop) - len(gen_pop.dropna(how='any'))\n",
    "rows_allMissing = len(gen_pop) - len(gen_pop.dropna(how='all'))\n",
    "\n",
    "print(f\"There are {rows_oneMissing} samples with at least one feature missing a value \\\n",
    "\\nand {rows_allMissing} samples missing values for all features\")\n"
   ]
  },
  {
   "cell_type": "code",
   "execution_count": null,
   "metadata": {},
   "outputs": [],
   "source": [
    "# Convert the strings for the missing values from the feature summary\n",
    "# To be proper lists of values to use for filling in NaNs\n",
    "\n",
    "# First, remove brackets\n",
    "# Then, split on comma separator\n",
    "feat_info.loc[:, 'missing_or_unknown'] = \\\n",
    "    feat_info.loc[:, 'missing_or_unknown'].str[1:-1].str.split(',')\n",
    "\n",
    "feat_info\n"
   ]
  },
  {
   "cell_type": "code",
   "execution_count": null,
   "metadata": {},
   "outputs": [],
   "source": [
    "# TODO: create parser function for making the lists as I did so above"
   ]
  },
  {
   "cell_type": "code",
   "execution_count": null,
   "metadata": {},
   "outputs": [],
   "source": [
    "# What columns are object (probably mixed) type?\n",
    "gen_pop.columns[gen_pop.dtypes == 'object']"
   ]
  },
  {
   "cell_type": "code",
   "execution_count": null,
   "metadata": {},
   "outputs": [],
   "source": [
    "# What unique data types exist within the object-type columns?\n",
    "col_types = {}\n",
    "\n",
    "for col in gen_pop.columns[gen_pop.dtypes == 'object']:\n",
    "    types = set()\n",
    "    col_types[col] = set([type(e) for e in gen_pop[col]])\n",
    "    \n",
    "col_types"
   ]
  },
  {
   "cell_type": "markdown",
   "metadata": {},
   "source": [
    "**Good to know! Looks like all object-type columns are of mixed float and str type**. This will help us do intelligent typecasting as we parse through the `feat_info` missing codes below.\n",
    "\n",
    "A few other notes (ignoring codes used for missing):\n",
    "\n",
    "1. `OST_WEST_KZ`\n",
    "    1. Can be \"O\" or \"W\"\n",
    "2. `CAMEO_DEUG_2015`\n",
    "    1. All int\n",
    "3. `CAMEO_DEU_2015`\n",
    "    1. Alphanumeric (of form INT-LETTER)\n",
    "4. `CAMEO_INTL_2015`\n",
    "    1. All int"
   ]
  },
  {
   "cell_type": "code",
   "execution_count": null,
   "metadata": {},
   "outputs": [],
   "source": [
    "def fill_missing(df, missing_codes_mapping, inplace=False):\n",
    "    '''\n",
    "    Parses dataframe of missing values and their mapping to individual feature names\n",
    "    and then fills any of those values found in a dataframe's matching feature columns\n",
    "    with np.nan.\n",
    "\n",
    "    Inputs\n",
    "    ------\n",
    "    df: pandas DataFrame. Table with features that match the ones for which we have\n",
    "        missing mappings. Each sample is a person.\n",
    "\n",
    "    missing_codes_mapping: pandas DataFrame. Contains columns 'attribute' and \n",
    "        'missing_or_unknown' that map codes used for missing/unknown values to \n",
    "        features/attributes. 'missing_or_unknown' is expected to have elements\n",
    "        that are lists of str (usually ints, but sometimes chars or empty lists).\n",
    "\n",
    "    Returns\n",
    "    -------\n",
    "    df with NaN values filled in according to missing_codes_mapping\n",
    "    '''\n",
    "\n",
    "    # Use deep copy if inplace = False, otherwise use shallow copy\n",
    "    data = df.copy(deep=not inplace)\n",
    "    missing_codes = missing_codes_mapping.copy(deep=not inplace)\n",
    "\n",
    "    def parse_missing_codes(code_list):\n",
    "        '''\n",
    "        Goes through a list of str and converts the elements of the list according to the needs \n",
    "        of the dtypes in our demographic data such that the results can be used for \n",
    "        filling in NaN values.\n",
    "\n",
    "        Inputs\n",
    "        ------\n",
    "        code_list: list of str. List is expected to contain the chars, floats, or ints \n",
    "            that are codes indicating a missing or unknown value.\n",
    "\n",
    "        Returns\n",
    "        -------\n",
    "        list or np.nan. Each element of the list returned is typecast according to \n",
    "            the expected needs of the NaN-filling it will be doing. Empty lists\n",
    "            (or lists with only an empty string in them) are returned as np.nan.\n",
    "        '''\n",
    "\n",
    "        # Make sure list isn't just empty string\n",
    "        if '' not in code_list:\n",
    "            # Check if list can be converted to int without issues - if so, do it\n",
    "            try:\n",
    "                return [int(e) for e in code_list]\n",
    "\n",
    "            # Not all are cast-able to int\n",
    "            except ValueError:\n",
    "                return [float(e) if 'X' not in e else e for e in code_list]\n",
    "\n",
    "        else:\n",
    "            return np.nan\n",
    "\n",
    "    # Typecast missing value codes appropriately\n",
    "    missing_codes.loc[:, 'missing_or_unknown'] = \\\n",
    "        missing_codes.loc[:, 'missing_or_unknown'].apply(parse_missing_codes)\n",
    "\n",
    "    # Create series that maps feature names (index) to missing codes (data)\n",
    "    code_map = pd.Series(data=missing_codes['missing_or_unknown'].values,\n",
    "                         index=missing_codes['attribute'].values)\n",
    "\n",
    "    # When passing a Series into to_replace, index is key and data is value (like a dict)\n",
    "    data.replace(to_replace=code_map,\n",
    "                 value=np.nan,\n",
    "                 inplace=True)\n",
    "\n",
    "    return data\n"
   ]
  },
  {
   "cell_type": "code",
   "execution_count": null,
   "metadata": {},
   "outputs": [],
   "source": [
    "# Replace codes we know to mean \"missing\" or \"unknown\" with NaN\n",
    "gen_pop = fill_missing(gen_pop, feat_info)\n",
    "gen_pop.head()"
   ]
  },
  {
   "cell_type": "code",
   "execution_count": null,
   "metadata": {},
   "outputs": [],
   "source": [
    "# Save a copy of gen_pop now that we've cleaned up its missing data so we can avoid doing work again\n",
    "gen_pop.to_csv('data/gen_pop.csv')"
   ]
  },
  {
   "cell_type": "code",
   "execution_count": null,
   "metadata": {},
   "outputs": [],
   "source": [
    "# TODO: make sure when importing customer data to use same dtypes as gen_pop"
   ]
  },
  {
   "cell_type": "markdown",
   "metadata": {},
   "source": [
    "#### Step 1.1.2: Assess Missing Data in Each Column\n",
    "\n",
    "How much missing data is present in each column? There are a few columns that are outliers in terms of the proportion of values that are missing. You will want to use matplotlib's [`hist()`](https://matplotlib.org/api/_as_gen/matplotlib.pyplot.hist.html) function to visualize the distribution of missing value counts to find these columns. Identify and document these columns. While some of these columns might have justifications for keeping or re-encoding the data, for this project you should just remove them from the dataframe. (Feel free to make remarks about these outlier columns in the discussion, however!)\n",
    "\n",
    "For the remaining features, are there any patterns in which columns have, or share, missing data?"
   ]
  },
  {
   "cell_type": "code",
   "execution_count": null,
   "metadata": {
    "toc-hr-collapsed": false
   },
   "outputs": [],
   "source": [
    "# Do some quick automated EDA\n",
    "# This will help especially in indicating the original amount of naturally missing data\n",
    "# prior to mapping the missing/unknown value codes to np.nan\n",
    "\n",
    "pdp.ProfileReport(gen_pop)\n"
   ]
  },
  {
   "cell_type": "code",
   "execution_count": null,
   "metadata": {},
   "outputs": [],
   "source": [
    "# Automated EDA again now that we've encoded our missing values as np.nan properly\n",
    "\n",
    "pdp.ProfileReport(gen_pop)"
   ]
  },
  {
   "cell_type": "code",
   "execution_count": null,
   "metadata": {},
   "outputs": [],
   "source": [
    "# Look at naturally missing data first\n",
    "\n",
    "missing = pd.DataFrame(gen_pop.isnull().sum()).rename(columns = {0: 'total missing'})\n",
    "missing['percent missing'] = round(missing['total missing'] / len(gen_pop),2)\n",
    "missing.sort_values('total missing', ascending = False, inplace=True)\n",
    "missing"
   ]
  },
  {
   "cell_type": "code",
   "execution_count": null,
   "metadata": {},
   "outputs": [],
   "source": [
    "# What do the missing data counts look like now, by column?\n",
    "\n",
    "missing_filled = pd.DataFrame(gen_pop.isnull().sum()).rename(columns = {0: 'total missing'})\n",
    "missing_filled['percent missing'] = round(missing_filled['total missing'] / len(gen_pop),2)\n",
    "missing_filled.sort_values('total missing', ascending = False, inplace=True)\n",
    "missing_filled"
   ]
  },
  {
   "cell_type": "code",
   "execution_count": null,
   "metadata": {},
   "outputs": [],
   "source": [
    "(missing['percent missing'] == 0.0).sum()"
   ]
  },
  {
   "cell_type": "markdown",
   "metadata": {},
   "source": [
    "**Well that's a non-trivial change!** The first profile I generated prior to filling in missing values had 6.4% of all values missing, now we're at 10.6%! Additionally:\n",
    "\n",
    "1. Before NaN-filling, we only had one feature with more than 15% of values missing (`KK_KUNDENTYP`) and 32 features with no missing values at all. \n",
    "    1. After filling in the NaN codes with `np.nan`, we end up with 9 having more than 15% of values missing and 25 with no missing values.\n",
    "1. `AGER_TYPE` has **77% of its values missing.** It wasn't even flagged as special prior to the NaN-filling step.\n",
    "2. `ALTER_HH` went from 8.2% missing to **34.8% missing!**\n",
    "3. Other examples exist (6 more I haven't mentioned that are above 15% missing)"
   ]
  },
  {
   "cell_type": "code",
   "execution_count": null,
   "metadata": {},
   "outputs": [],
   "source": [
    "none_missing_count = len(missing[missing['total missing'] > 0])\n",
    "print(\n",
    "    f\"{none_missing_count} columns have a nonzero number of missing values now\")\n"
   ]
  },
  {
   "cell_type": "code",
   "execution_count": null,
   "metadata": {},
   "outputs": [],
   "source": [
    "# Visualize the missing count across columns\n",
    "\n",
    "sns.distplot(missing['total missing'], bins = 25)\n",
    "#sns.barplot(x=missing.index, y='percent missing', data=missing)"
   ]
  },
  {
   "cell_type": "markdown",
   "metadata": {},
   "source": [
    "**It seems pretty clear here that any features we should consider as \"outliers\" are the ones that have more than 20% missing values. Let's remove those.**"
   ]
  },
  {
   "cell_type": "code",
   "execution_count": null,
   "metadata": {},
   "outputs": [],
   "source": [
    "missing[missing['total missing'] > 2E5]"
   ]
  },
  {
   "cell_type": "code",
   "execution_count": null,
   "metadata": {},
   "outputs": [],
   "source": [
    "# Remove the outlier columns from the dataset\n",
    "\n",
    "outlier_cols = list(missing[missing['percent missing'] > 0.2].index.values)\n",
    "gen_pop.drop(columns=outlier_cols, inplace=True)"
   ]
  },
  {
   "cell_type": "code",
   "execution_count": null,
   "metadata": {},
   "outputs": [],
   "source": [
    "# Re-assess after dropping outlier features\n",
    "\n",
    "missing_noOutliers = pd.DataFrame(gen_pop.isnull().sum()).rename(columns = {0: 'total missing'})\n",
    "missing_noOutliers['percent missing'] = round(missing_noOutliers['total missing'] / len(gen_pop),2)\n",
    "missing_noOutliers.sort_values('total missing', ascending = False, inplace=True)\n",
    "missing_noOutliers"
   ]
  },
  {
   "cell_type": "code",
   "execution_count": null,
   "metadata": {},
   "outputs": [],
   "source": [
    "# What does missing count distribution look like now?\n",
    "\n",
    "sns.distplot(missing_noOutliers['total missing'],\n",
    "            bins = 25)"
   ]
  },
  {
   "cell_type": "code",
   "execution_count": null,
   "metadata": {},
   "outputs": [],
   "source": [
    "missing_noSort = pd.DataFrame(gen_pop.isnull().sum()).rename(columns = {0: 'total missing'})\n",
    "\n",
    "missing_noSort[missing_noSort['total missing'] < 50000]\n",
    "#missing_noSort[missing_noSort['total missing'] > 50000]"
   ]
  },
  {
   "cell_type": "code",
   "execution_count": null,
   "metadata": {},
   "outputs": [],
   "source": [
    "len(missing_noSort[missing_noSort['total missing'] < 50000])"
   ]
  },
  {
   "cell_type": "code",
   "execution_count": null,
   "metadata": {},
   "outputs": [],
   "source": [
    "# What % of all features is represented at different information levels?\n",
    "\n",
    "feat_info['information_level'].value_counts()/len(feat_info)"
   ]
  },
  {
   "cell_type": "code",
   "execution_count": null,
   "metadata": {},
   "outputs": [],
   "source": [
    "# Parse how many features are named something common to the \n",
    "# low-missing-values sample relative to the total feature space\n",
    "\n",
    "feat_snippet = 'LP_'\n",
    "\n",
    "low_missing_num = missing_noSort[missing_noSort['total missing'] < 50000].index\\\n",
    ".str.contains(feat_snippet).sum()\n",
    "total = feat_info['attribute'].str.contains(feat_snippet).sum()\n",
    "\n",
    "print(f\"There are {low_missing_num} features in the low-missing-values \\\n",
    "feature space with {feat_snippet} in their name, out of a total possible {total} \\\n",
    "features with the same thing in their name.\")"
   ]
  },
  {
   "cell_type": "code",
   "execution_count": null,
   "metadata": {},
   "outputs": [],
   "source": [
    "# First things first: if I'm going to make sense out of these, I need more helpful names\n",
    "\n",
    "new_names = {\n",
    "    'AGER_TYP': 'Elderly Type',\n",
    "    'ALTERSKATEGORIE_GROB': 'Age Bin',\n",
    "    'ANREDE_KZ': 'Gender',\n",
    "    'CJT_GESAMTTYP': 'Consumption Channel Type',\n",
    "    'FINANZ_MINIMALIST': 'MoneyType__Minimalist',\n",
    "    'FINANZ_SPARER': 'MoneyType__Saver',\n",
    "    'FINANZ_VORSORGER': 'MoneyType__Preparer',\n",
    "    'FINANZ_ANLEGER': 'MoneyType__Investor',\n",
    "    'FINANZ_UNAUFFAELLIGER': 'MoneyType__Inconspicuous',\n",
    "    'FINANZ_HAUSBAUER': 'MoneyType__Homeowner',\n",
    "    'FINANZTYP': 'MoneyType__Primary',\n",
    "    'GEBURTSJAHR': 'Birth Year',\n",
    "    'GFK_URLAUBERTYP': 'Vacation Habits',\n",
    "    'GREEN_AVANTGARDE': 'Young Environmentalist',\n",
    "    'HEALTH_TYP': 'Health Type',\n",
    "    'LP_LEBENSPHASE_FEIN': 'Life Stage - HighRes',\n",
    "    'LP_LEBENSPHASE_GROB': 'Life Stage - LowRes',\n",
    "    'LP_FAMILIE_FEIN': 'Family Type - HighRes',\n",
    "    'LP_FAMILIE_GROB': 'Family Type - LowRes',\n",
    "    'LP_STATUS_FEIN': 'Socioeconomic Status - HighRes',\n",
    "    'LP_STATUS_GROB': 'Socioeconomic Status - LowRes',\n",
    "    'NATIONALITAET_KZ': 'Nationality Based on Name',\n",
    "    'PRAEGENDE_JUGENDJAHRE': 'Generation Designation',\n",
    "    'RETOURTYP_BK_S': 'Customer Type',\n",
    "    'SEMIO_SOZ': 'PersonalityType__Social',\n",
    "    'SEMIO_FAM': 'PersonalityType__Family',\n",
    "    'SEMIO_REL': 'PersonalityType__Religious',\n",
    "    'SEMIO_MAT': 'PersonalityType__Materialist',\n",
    "    'SEMIO_VERT': 'PersonalityType__Dreamer',\n",
    "    'SEMIO_LUST': 'PersonalityType__Sensual',\n",
    "    'SEMIO_ERL': 'PersonalityType__Event',\n",
    "    'SEMIO_KULT': 'PersonalityType__Cultured',\n",
    "    'SEMIO_RAT': 'PersonalityType__Rational',\n",
    "    'SEMIO_KRIT': 'PersonalityType__Critical',\n",
    "    'SEMIO_DOM': 'PersonalityType__Dominant',\n",
    "    'SEMIO_KAEM': 'PersonalityType__Combative',\n",
    "    'SEMIO_PFLICHT': 'PersonalityType__Dutiful',\n",
    "    'SEMIO_TRADV': 'PersonalityType__Traditional',\n",
    "    'SHOPPER_TYP': 'Shopper Type',\n",
    "    'SOHO_KZ': 'Small or Home Office Owner',\n",
    "    'TITEL_KZ': 'Academic Title',\n",
    "    'VERS_TYP': 'Insurance Type',\n",
    "    'ZABEOTYP': 'Energy Consumption Type',\n",
    "    'ALTER_HH': 'HH: Head of HH Birthdate Bin (5-Year)',\n",
    "    'ANZ_PERSONEN': 'HH: Number of Adults in HH',\n",
    "    'ANZ_TITEL': 'HH: Number of Academic Title Holders in HH',\n",
    "    'HH_EINKOMMEN_SCORE': 'HH: Net Income Bins',\n",
    "    'KK_KUNDENTYP': 'HH: Customer Type',\n",
    "    'W_KEIT_KIND_HH': 'HH: Probability of Children in Residence',\n",
    "    'WOHNDAUER_2008': 'HH: Length of Residency (bins)',\n",
    "    'NZ_HAUSHALTE_AKTIV': 'Bldg: Number of HHs',\n",
    "    'ANZ_HH_TITEL': 'Bldg: Number of Academic Title Holders',\n",
    "    'GEBAEUDETYP': 'Bldg: Building Type',\n",
    "    'KONSUMNAEHE': 'Bldg: Distance to Point of Sale Category',\n",
    "    'MIN_GEBAEUDEJAHR': \"Bldg: Year of Building's Initial Database Entry\",\n",
    "    'OST_WEST_KZ': 'Bldg: Location Relative to E or W Germany',\n",
    "    'WOHNLAGE': 'Bldg: Neighborhood Quality',\n",
    "    'CAMEO_DEUG_2015': 'RR4: Life Stage Type - LowRes',\n",
    "    'CAMEO_DEU_2015': 'RR4: Life Stage Type - HighRes',\n",
    "    'CAMEO_INTL_2015': \"RR4: Life Stage Type - Int'l Code Mapping\",\n",
    "    'KBA05_ANTG1': 'RR3: Bins of 1-2 Family Homes',\n",
    "    'KBA05_ANTG2': 'RR3: Bins of 3-5 Family Homes',\n",
    "    'KBA05_ANTG3': 'RR3: Bins of 6-10 Family Homes',\n",
    "    'KBA05_ANTG4': 'RR3: Bins of 10+ Family Homes',\n",
    "    'KBA05_BAUMAX': 'RR3: Most Common Bldg Type',\n",
    "    'KBA05_GBZ': 'RR3: Bin Counts of Bldgs',\n",
    "    'BALLRAUM': 'PostCode: Distance to Nearest Urban Center (bins)',\n",
    "    'EWDICHTE': 'PostCode: Density of HHs per km^2 (bins)',\n",
    "    'INNENSTADT': 'PostCode: Distance to City Center (bins)',\n",
    "    'GEBAEUDETYP_RASTER': 'RR1: Residential-Commercial Activity Ratio (categories)',\n",
    "    'KKK': 'RR1: Purchasing Power (bins)',\n",
    "    'MOBI_REGIO': 'RR1: Movement Patterns',\n",
    "    'ONLINE_AFFINITAET': 'RR1: Online Affinity',\n",
    "    'REGIOTYP': 'RR1: Neighborhood Type',\n",
    "    'KBA13_ANZAHL_PKW': 'PLZ8: Number of Cars',\n",
    "    'PLZ8_ANTG1': 'PLZ8: Bins of 1-2 Family Homes',\n",
    "    'PLZ8_ANTG2': 'PLZ8: Bins of 3-5 Family Homes',\n",
    "    'PLZ8_ANTG3': 'PLZ8: Bins of 6-10 Family Homes',\n",
    "    'PLZ8_ANTG4': 'PLZ8: Bins of 10+ Family Homes',\n",
    "    'PLZ8_BAUMAX': 'PLZ8: Most Common Bldg Type',\n",
    "    'PLZ8_HHZ': 'PLZ8: Bin Counts of HHs',\n",
    "    'LZ8_GBZ': 'PLZ8: Bin Counts of Bldgs',\n",
    "    'ARBEIT': 'Community: Share of Unemployment',\n",
    "    'ORTSGR_KLS9': 'Community: Size (bins)',\n",
    "    'RELAT_AB': 'Community: Share of Unemployment Relative to Parent County'\n",
    "}\n",
    "\n",
    "gen_pop.rename(columns=new_names, inplace=True)\n"
   ]
  },
  {
   "cell_type": "markdown",
   "metadata": {},
   "source": [
    "#### Discussion 1.1.2: Assess Missing Data in Each Column\n",
    "\n",
    "Here are my notes on what just went down in this section:\n",
    "\n",
    "1. Before matching codes for unknown/missing values and filling in those values with `np.nan`, we had 6.4% of all values reported as missing. Afterwards, 10.6% of all values were missing.\n",
    "2. I removed features with more than 20% missing values as they appeared to be outliers in terms of the amount of missing values relative to the overall feature set\n",
    "    * Specifically, the features removed were `TITEL_KZ`, `AGER_TYP`, `KK_KUNDENTYP`, `KBA05_BAUMAX`, `GEBURTSJAHR`, and `ALTER_HH`\n",
    "3. In the data that are remaining, I see a clear breakpoint between features with 0% - 2% missing values and those with 8% - 18% missing values.\n",
    "    * Those in the group with 0% - 2%:\n",
    "        * All but two (`ONLINE_AFFINITAET` and `HH_EINKOMMEN_SCORE`) are person-level measures. Given that there are 32 features in this subset and ~50% of all features are person-level, this suggests that person-level features are overrepresented in the subset (if the information levels were distributed the same in this sample as they are in the total population, we'd expect only 16-17 features to be person-level). \n",
    "            * Also, this means that 70% of the total 43 possible person-level features in the full feature space are represented in this sample.\n",
    "        * All of the `SEMIO` features are included (personality dimension ratings)\n",
    "        * All of the `FINANZ` features are included (financial behavorial dimensions)\n",
    "        * \n",
    "    * Those in the group with 8% - 18% missing seem to all be "
   ]
  },
  {
   "cell_type": "code",
   "execution_count": null,
   "metadata": {},
   "outputs": [],
   "source": [
    "(feat_info['information_level'] == 'person').sum()"
   ]
  },
  {
   "cell_type": "markdown",
   "metadata": {},
   "source": [
    "#### Step 1.1.3: Assess Missing Data in Each Row\n",
    "\n",
    "Now, you'll perform a similar assessment for the rows of the dataset. How much data is missing in each row? As with the columns, you should see some groups of points that have a very different numbers of missing values. Divide the data into two subsets: one for data points that are above some threshold for missing values, and a second subset for points below that threshold.\n",
    "\n",
    "In order to know what to do with the outlier rows, we should see if the distribution of data values on columns that are not missing data (or are missing very little data) are similar or different between the two groups. Select at least five of these columns and compare the distribution of values.\n",
    "- You can use seaborn's [`countplot()`](https://seaborn.pydata.org/generated/seaborn.countplot.html) function to create a bar chart of code frequencies and matplotlib's [`subplot()`](https://matplotlib.org/api/_as_gen/matplotlib.pyplot.subplot.html) function to put bar charts for the two subplots side by side.\n",
    "- To reduce repeated code, you might want to write a function that can perform this comparison, taking as one of its arguments a column to be compared.\n",
    "\n",
    "Depending on what you observe in your comparison, this will have implications on how you approach your conclusions later in the analysis. If the distributions of non-missing features look similar between the data with many missing values and the data with few or no missing values, then we could argue that simply dropping those points from the analysis won't present a major issue. On the other hand, if the data with many missing values looks very different from the data with few or no missing values, then we should make a note on those data as special. We'll revisit these data later on. **Either way, you should continue your analysis for now using just the subset of the data with few or no missing values.**"
   ]
  },
  {
   "cell_type": "code",
   "execution_count": null,
   "metadata": {},
   "outputs": [],
   "source": [
    "# Remind me, how many rows had missing data prior to NaN-filling?\n",
    "\n",
    "print(f\"There are {rows_oneMissing} samples with at least one feature missing a value \\\n",
    "\\nand {rows_allMissing} samples missing values for all features\")"
   ]
  },
  {
   "cell_type": "code",
   "execution_count": null,
   "metadata": {},
   "outputs": [],
   "source": [
    "# What do the missing data counts look like now, by row?\n",
    "\n",
    "rows_oneMissing_filled = len(gen_pop) - len(gen_pop.dropna(how='any'))\n",
    "rows_allMissing_filled = len(gen_pop) - len(gen_pop.dropna(how='all'))\n",
    "\n",
    "print(f\"There are {rows_oneMissing_filled} samples with at least one feature missing a value \\\n",
    "\\nand {rows_allMissing_filled} samples missing values for all features\")"
   ]
  },
  {
   "cell_type": "markdown",
   "metadata": {},
   "source": [
    "**That's quite the change! Almost every sample (all but 143 of them) has at least one missing value for a feature!**"
   ]
  },
  {
   "cell_type": "code",
   "execution_count": null,
   "metadata": {},
   "outputs": [],
   "source": [
    "# How much data is missing in each row of the dataset?\n",
    "\n"
   ]
  },
  {
   "cell_type": "code",
   "execution_count": null,
   "metadata": {},
   "outputs": [],
   "source": [
    "# Write code to divide the data into two subsets based on the number of missing\n",
    "# values in each row.\n",
    "\n"
   ]
  },
  {
   "cell_type": "code",
   "execution_count": null,
   "metadata": {},
   "outputs": [],
   "source": [
    "# Compare the distribution of values for at least five columns where there are\n",
    "# no or few missing values, between the two subsets.\n",
    "\n"
   ]
  },
  {
   "cell_type": "markdown",
   "metadata": {},
   "source": [
    "#### Discussion 1.1.3: Assess Missing Data in Each Row\n",
    "\n",
    "(Double-click this cell and replace this text with your own text, reporting your observations regarding missing data in rows. Are the data with lots of missing values are qualitatively different from data with few or no missing values?)"
   ]
  },
  {
   "cell_type": "markdown",
   "metadata": {
    "toc-hr-collapsed": true
   },
   "source": [
    "### Step 1.2: Select and Re-Encode Features\n",
    "\n",
    "Checking for missing data isn't the only way in which you can prepare a dataset for analysis. Since the unsupervised learning techniques to be used will only work on data that is encoded numerically, you need to make a few encoding changes or additional assumptions to be able to make progress. In addition, while almost all of the values in the dataset are encoded using numbers, not all of them represent numeric values. Check the third column of the feature summary (`feat_info`) for a summary of types of measurement.\n",
    "- For numeric and interval data, these features can be kept without changes.\n",
    "- Most of the variables in the dataset are ordinal in nature. While ordinal values may technically be non-linear in spacing, make the simplifying assumption that the ordinal variables can be treated as being interval in nature (that is, kept without any changes).\n",
    "- Special handling may be necessary for the remaining two variable types: categorical, and 'mixed'.\n",
    "\n",
    "In the first two parts of this sub-step, you will perform an investigation of the categorical and mixed-type features and make a decision on each of them, whether you will keep, drop, or re-encode each. Then, in the last part, you will create a new data frame with only the selected and engineered columns.\n",
    "\n",
    "Data wrangling is often the trickiest part of the data analysis process, and there's a lot of it to be done here. But stick with it: once you're done with this step, you'll be ready to get to the machine learning parts of the project!"
   ]
  },
  {
   "cell_type": "code",
   "execution_count": null,
   "metadata": {},
   "outputs": [],
   "source": [
    "# How many features are there of each data type?\n",
    "\n"
   ]
  },
  {
   "cell_type": "markdown",
   "metadata": {},
   "source": [
    "#### Step 1.2.1: Re-Encode Categorical Features\n",
    "\n",
    "For categorical data, you would ordinarily need to encode the levels as dummy variables. Depending on the number of categories, perform one of the following:\n",
    "- For binary (two-level) categoricals that take numeric values, you can keep them without needing to do anything.\n",
    "- There is one binary variable that takes on non-numeric values. For this one, you need to re-encode the values as numbers or create a dummy variable.\n",
    "- For multi-level categoricals (three or more values), you can choose to encode the values using multiple dummy variables (e.g. via [OneHotEncoder](http://scikit-learn.org/stable/modules/generated/sklearn.preprocessing.OneHotEncoder.html)), or (to keep things straightforward) just drop them from the analysis. As always, document your choices in the Discussion section."
   ]
  },
  {
   "cell_type": "code",
   "execution_count": null,
   "metadata": {},
   "outputs": [],
   "source": [
    "# Assess categorical variables: which are binary, which are multi-level, and\n",
    "# which one needs to be re-encoded?\n",
    "\n"
   ]
  },
  {
   "cell_type": "code",
   "execution_count": null,
   "metadata": {},
   "outputs": [],
   "source": [
    "# Re-encode categorical variable(s) to be kept in the analysis.\n",
    "\n"
   ]
  },
  {
   "cell_type": "markdown",
   "metadata": {},
   "source": [
    "#### Discussion 1.2.1: Re-Encode Categorical Features\n",
    "\n",
    "(Double-click this cell and replace this text with your own text, reporting your findings and decisions regarding categorical features. Which ones did you keep, which did you drop, and what engineering steps did you perform?)"
   ]
  },
  {
   "cell_type": "markdown",
   "metadata": {},
   "source": [
    "#### Step 1.2.2: Engineer Mixed-Type Features\n",
    "\n",
    "There are a handful of features that are marked as \"mixed\" in the feature summary that require special treatment in order to be included in the analysis. There are two in particular that deserve attention; the handling of the rest are up to your own choices:\n",
    "- \"PRAEGENDE_JUGENDJAHRE\" combines information on three dimensions: generation by decade, movement (mainstream vs. avantgarde), and nation (east vs. west). While there aren't enough levels to disentangle east from west, you should create two new variables to capture the other two dimensions: an interval-type variable for decade, and a binary variable for movement.\n",
    "- \"CAMEO_INTL_2015\" combines information on two axes: wealth and life stage. Break up the two-digit codes by their 'tens'-place and 'ones'-place digits into two new ordinal variables (which, for the purposes of this project, is equivalent to just treating them as their raw numeric values).\n",
    "- If you decide to keep or engineer new features around the other mixed-type features, make sure you note your steps in the Discussion section.\n",
    "\n",
    "Be sure to check `Data_Dictionary.md` for the details needed to finish these tasks."
   ]
  },
  {
   "cell_type": "code",
   "execution_count": null,
   "metadata": {},
   "outputs": [],
   "source": [
    "# Investigate \"PRAEGENDE_JUGENDJAHRE\" and engineer two new variables.\n",
    "\n"
   ]
  },
  {
   "cell_type": "code",
   "execution_count": null,
   "metadata": {},
   "outputs": [],
   "source": [
    "# Investigate \"CAMEO_INTL_2015\" and engineer two new variables.\n",
    "\n"
   ]
  },
  {
   "cell_type": "markdown",
   "metadata": {},
   "source": [
    "#### Discussion 1.2.2: Engineer Mixed-Type Features\n",
    "\n",
    "(Double-click this cell and replace this text with your own text, reporting your findings and decisions regarding mixed-value features. Which ones did you keep, which did you drop, and what engineering steps did you perform?)"
   ]
  },
  {
   "cell_type": "markdown",
   "metadata": {},
   "source": [
    "#### Step 1.2.3: Complete Feature Selection\n",
    "\n",
    "In order to finish this step up, you need to make sure that your data frame now only has the columns that you want to keep. To summarize, the dataframe should consist of the following:\n",
    "- All numeric, interval, and ordinal type columns from the original dataset.\n",
    "- Binary categorical features (all numerically-encoded).\n",
    "- Engineered features from other multi-level categorical features and mixed features.\n",
    "\n",
    "Make sure that for any new columns that you have engineered, that you've excluded the original columns from the final dataset. Otherwise, their values will interfere with the analysis later on the project. For example, you should not keep \"PRAEGENDE_JUGENDJAHRE\", since its values won't be useful for the algorithm: only the values derived from it in the engineered features you created should be retained. As a reminder, your data should only be from **the subset with few or no missing values**."
   ]
  },
  {
   "cell_type": "code",
   "execution_count": null,
   "metadata": {},
   "outputs": [],
   "source": [
    "# If there are other re-engineering tasks you need to perform, make sure you\n",
    "# take care of them here. (Dealing with missing data will come in step 2.1.)\n",
    "\n"
   ]
  },
  {
   "cell_type": "code",
   "execution_count": null,
   "metadata": {},
   "outputs": [],
   "source": [
    "# Do whatever you need to in order to ensure that the dataframe only contains\n",
    "# the columns that should be passed to the algorithm functions.\n",
    "\n"
   ]
  },
  {
   "cell_type": "markdown",
   "metadata": {},
   "source": [
    "### Step 1.3: Create a Cleaning Function\n",
    "\n",
    "Even though you've finished cleaning up the general population demographics data, it's important to look ahead to the future and realize that you'll need to perform the same cleaning steps on the customer demographics data. In this substep, complete the function below to execute the main feature selection, encoding, and re-engineering steps you performed above. Then, when it comes to looking at the customer data in Step 3, you can just run this function on that DataFrame to get the trimmed dataset in a single step."
   ]
  },
  {
   "cell_type": "code",
   "execution_count": null,
   "metadata": {},
   "outputs": [],
   "source": [
    "def clean_data(df):\n",
    "    \"\"\"\n",
    "    Perform feature trimming, re-encoding, and engineering for demographics\n",
    "    data\n",
    "    \n",
    "    INPUT: Demographics DataFrame\n",
    "    OUTPUT: Trimmed and cleaned demographics DataFrame\n",
    "    \"\"\"\n",
    "    \n",
    "    # Put in code here to execute all main cleaning steps:\n",
    "    # convert missing value codes into NaNs, ...\n",
    "    \n",
    "    \n",
    "    # remove selected columns and rows, ...\n",
    "\n",
    "    \n",
    "    # select, re-encode, and engineer column values.\n",
    "\n",
    "    \n",
    "    # Return the cleaned dataframe.\n",
    "    \n",
    "    "
   ]
  },
  {
   "cell_type": "markdown",
   "metadata": {
    "toc-hr-collapsed": true
   },
   "source": [
    "## Step 2: Feature Transformation\n",
    "\n",
    "### Step 2.1: Apply Feature Scaling\n",
    "\n",
    "Before we apply dimensionality reduction techniques to the data, we need to perform feature scaling so that the principal component vectors are not influenced by the natural differences in scale for features. Starting from this part of the project, you'll want to keep an eye on the [API reference page for sklearn](http://scikit-learn.org/stable/modules/classes.html) to help you navigate to all of the classes and functions that you'll need. In this substep, you'll need to check the following:\n",
    "\n",
    "- sklearn requires that data not have missing values in order for its estimators to work properly. So, before applying the scaler to your data, make sure that you've cleaned the DataFrame of the remaining missing values. This can be as simple as just removing all data points with missing data, or applying an [Imputer](http://scikit-learn.org/stable/modules/generated/sklearn.preprocessing.Imputer.html) to replace all missing values. You might also try a more complicated procedure where you temporarily remove missing values in order to compute the scaling parameters before re-introducing those missing values and applying imputation. Think about how much missing data you have and what possible effects each approach might have on your analysis, and justify your decision in the discussion section below.\n",
    "- For the actual scaling function, a [StandardScaler](http://scikit-learn.org/stable/modules/generated/sklearn.preprocessing.StandardScaler.html) instance is suggested, scaling each feature to mean 0 and standard deviation 1.\n",
    "- For these classes, you can make use of the `.fit_transform()` method to both fit a procedure to the data as well as apply the transformation to the data at the same time. Don't forget to keep the fit sklearn objects handy, since you'll be applying them to the customer demographics data towards the end of the project."
   ]
  },
  {
   "cell_type": "code",
   "execution_count": null,
   "metadata": {},
   "outputs": [],
   "source": [
    "# If you've not yet cleaned the dataset of all NaN values, then investigate and\n",
    "# do that now.\n",
    "\n"
   ]
  },
  {
   "cell_type": "code",
   "execution_count": null,
   "metadata": {},
   "outputs": [],
   "source": [
    "# Apply feature scaling to the general population demographics data.\n",
    "\n"
   ]
  },
  {
   "cell_type": "markdown",
   "metadata": {},
   "source": [
    "### Discussion 2.1: Apply Feature Scaling\n",
    "\n",
    "(Double-click this cell and replace this text with your own text, reporting your decisions regarding feature scaling.)"
   ]
  },
  {
   "cell_type": "markdown",
   "metadata": {},
   "source": [
    "### Step 2.2: Perform Dimensionality Reduction\n",
    "\n",
    "On your scaled data, you are now ready to apply dimensionality reduction techniques.\n",
    "\n",
    "- Use sklearn's [PCA](http://scikit-learn.org/stable/modules/generated/sklearn.decomposition.PCA.html) class to apply principal component analysis on the data, thus finding the vectors of maximal variance in the data. To start, you should not set any parameters (so all components are computed) or set a number of components that is at least half the number of features (so there's enough features to see the general trend in variability).\n",
    "- Check out the ratio of variance explained by each principal component as well as the cumulative variance explained. Try plotting the cumulative or sequential values using matplotlib's [`plot()`](https://matplotlib.org/api/_as_gen/matplotlib.pyplot.plot.html) function. Based on what you find, select a value for the number of transformed features you'll retain for the clustering part of the project.\n",
    "- Once you've made a choice for the number of components to keep, make sure you re-fit a PCA instance to perform the decided-on transformation."
   ]
  },
  {
   "cell_type": "code",
   "execution_count": null,
   "metadata": {},
   "outputs": [],
   "source": [
    "# Apply PCA to the data.\n",
    "\n"
   ]
  },
  {
   "cell_type": "code",
   "execution_count": null,
   "metadata": {},
   "outputs": [],
   "source": [
    "# Investigate the variance accounted for by each principal component.\n",
    "\n"
   ]
  },
  {
   "cell_type": "code",
   "execution_count": null,
   "metadata": {},
   "outputs": [],
   "source": [
    "# Re-apply PCA to the data while selecting for number of components to retain.\n",
    "\n"
   ]
  },
  {
   "cell_type": "markdown",
   "metadata": {},
   "source": [
    "### Discussion 2.2: Perform Dimensionality Reduction\n",
    "\n",
    "(Double-click this cell and replace this text with your own text, reporting your findings and decisions regarding dimensionality reduction. How many principal components / transformed features are you retaining for the next step of the analysis?)"
   ]
  },
  {
   "cell_type": "markdown",
   "metadata": {},
   "source": [
    "### Step 2.3: Interpret Principal Components\n",
    "\n",
    "Now that we have our transformed principal components, it's a nice idea to check out the weight of each variable on the first few components to see if they can be interpreted in some fashion.\n",
    "\n",
    "As a reminder, each principal component is a unit vector that points in the direction of highest variance (after accounting for the variance captured by earlier principal components). The further a weight is from zero, the more the principal component is in the direction of the corresponding feature. If two features have large weights of the same sign (both positive or both negative), then increases in one tend expect to be associated with increases in the other. To contrast, features with different signs can be expected to show a negative correlation: increases in one variable should result in a decrease in the other.\n",
    "\n",
    "- To investigate the features, you should map each weight to their corresponding feature name, then sort the features according to weight. The most interesting features for each principal component, then, will be those at the beginning and end of the sorted list. Use the data dictionary document to help you understand these most prominent features, their relationships, and what a positive or negative value on the principal component might indicate.\n",
    "- You should investigate and interpret feature associations from the first three principal components in this substep. To help facilitate this, you should write a function that you can call at any time to print the sorted list of feature weights, for the *i*-th principal component. This might come in handy in the next step of the project, when you interpret the tendencies of the discovered clusters."
   ]
  },
  {
   "cell_type": "code",
   "execution_count": null,
   "metadata": {},
   "outputs": [],
   "source": [
    "# Map weights for the first principal component to corresponding feature names\n",
    "# and then print the linked values, sorted by weight.\n",
    "# HINT: Try defining a function here or in a new cell that you can reuse in the\n",
    "# other cells.\n",
    "\n"
   ]
  },
  {
   "cell_type": "code",
   "execution_count": null,
   "metadata": {},
   "outputs": [],
   "source": [
    "# Map weights for the second principal component to corresponding feature names\n",
    "# and then print the linked values, sorted by weight.\n",
    "\n"
   ]
  },
  {
   "cell_type": "code",
   "execution_count": null,
   "metadata": {},
   "outputs": [],
   "source": [
    "# Map weights for the third principal component to corresponding feature names\n",
    "# and then print the linked values, sorted by weight.\n",
    "\n"
   ]
  },
  {
   "cell_type": "markdown",
   "metadata": {},
   "source": [
    "### Discussion 2.3: Interpret Principal Components\n",
    "\n",
    "(Double-click this cell and replace this text with your own text, reporting your observations from detailed investigation of the first few principal components generated. Can we interpret positive and negative values from them in a meaningful way?)"
   ]
  },
  {
   "cell_type": "markdown",
   "metadata": {
    "toc-hr-collapsed": true
   },
   "source": [
    "## Step 3: Clustering\n",
    "\n",
    "### Step 3.1: Apply Clustering to General Population\n",
    "\n",
    "You've assessed and cleaned the demographics data, then scaled and transformed them. Now, it's time to see how the data clusters in the principal components space. In this substep, you will apply k-means clustering to the dataset and use the average within-cluster distances from each point to their assigned cluster's centroid to decide on a number of clusters to keep.\n",
    "\n",
    "- Use sklearn's [KMeans](http://scikit-learn.org/stable/modules/generated/sklearn.cluster.KMeans.html#sklearn.cluster.KMeans) class to perform k-means clustering on the PCA-transformed data.\n",
    "- Then, compute the average difference from each point to its assigned cluster's center. **Hint**: The KMeans object's `.score()` method might be useful here, but note that in sklearn, scores tend to be defined so that larger is better. Try applying it to a small, toy dataset, or use an internet search to help your understanding.\n",
    "- Perform the above two steps for a number of different cluster counts. You can then see how the average distance decreases with an increasing number of clusters. However, each additional cluster provides a smaller net benefit. Use this fact to select a final number of clusters in which to group the data. **Warning**: because of the large size of the dataset, it can take a long time for the algorithm to resolve. The more clusters to fit, the longer the algorithm will take. You should test for cluster counts through at least 10 clusters to get the full picture, but you shouldn't need to test for a number of clusters above about 30.\n",
    "- Once you've selected a final number of clusters to use, re-fit a KMeans instance to perform the clustering operation. Make sure that you also obtain the cluster assignments for the general demographics data, since you'll be using them in the final Step 3.3."
   ]
  },
  {
   "cell_type": "code",
   "execution_count": null,
   "metadata": {},
   "outputs": [],
   "source": [
    "# Over a number of different cluster counts...\n",
    "\n",
    "\n",
    "    # run k-means clustering on the data and...\n",
    "    \n",
    "    \n",
    "    # compute the average within-cluster distances.\n",
    "    \n",
    "    "
   ]
  },
  {
   "cell_type": "code",
   "execution_count": null,
   "metadata": {},
   "outputs": [],
   "source": [
    "# Investigate the change in within-cluster distance across number of clusters.\n",
    "# HINT: Use matplotlib's plot function to visualize this relationship.\n",
    "\n"
   ]
  },
  {
   "cell_type": "code",
   "execution_count": null,
   "metadata": {},
   "outputs": [],
   "source": [
    "# Re-fit the k-means model with the selected number of clusters and obtain\n",
    "# cluster predictions for the general population demographics data.\n",
    "\n"
   ]
  },
  {
   "cell_type": "markdown",
   "metadata": {},
   "source": [
    "### Discussion 3.1: Apply Clustering to General Population\n",
    "\n",
    "(Double-click this cell and replace this text with your own text, reporting your findings and decisions regarding clustering. Into how many clusters have you decided to segment the population?)"
   ]
  },
  {
   "cell_type": "markdown",
   "metadata": {},
   "source": [
    "### Step 3.2: Apply All Steps to the Customer Data\n",
    "\n",
    "Now that you have clusters and cluster centers for the general population, it's time to see how the customer data maps on to those clusters. Take care to not confuse this for re-fitting all of the models to the customer data. Instead, you're going to use the fits from the general population to clean, transform, and cluster the customer data. In the last step of the project, you will interpret how the general population fits apply to the customer data.\n",
    "\n",
    "- Don't forget when loading in the customers data, that it is semicolon (`;`) delimited.\n",
    "- Apply the same feature wrangling, selection, and engineering steps to the customer demographics using the `clean_data()` function you created earlier. (You can assume that the customer demographics data has similar meaning behind missing data patterns as the general demographics data.)\n",
    "- Use the sklearn objects from the general demographics data, and apply their transformations to the customers data. That is, you should not be using a `.fit()` or `.fit_transform()` method to re-fit the old objects, nor should you be creating new sklearn objects! Carry the data through the feature scaling, PCA, and clustering steps, obtaining cluster assignments for all of the data in the customer demographics data."
   ]
  },
  {
   "cell_type": "code",
   "execution_count": null,
   "metadata": {},
   "outputs": [],
   "source": [
    "# Load in the customer demographics data.\n",
    "customers = "
   ]
  },
  {
   "cell_type": "code",
   "execution_count": null,
   "metadata": {},
   "outputs": [],
   "source": [
    "# Apply preprocessing, feature transformation, and clustering from the general\n",
    "# demographics onto the customer data, obtaining cluster predictions for the\n",
    "# customer demographics data.\n",
    "\n"
   ]
  },
  {
   "cell_type": "markdown",
   "metadata": {},
   "source": [
    "### Step 3.3: Compare Customer Data to Demographics Data\n",
    "\n",
    "At this point, you have clustered data based on demographics of the general population of Germany, and seen how the customer data for a mail-order sales company maps onto those demographic clusters. In this final substep, you will compare the two cluster distributions to see where the strongest customer base for the company is.\n",
    "\n",
    "Consider the proportion of persons in each cluster for the general population, and the proportions for the customers. If we think the company's customer base to be universal, then the cluster assignment proportions should be fairly similar between the two. If there are only particular segments of the population that are interested in the company's products, then we should see a mismatch from one to the other. If there is a higher proportion of persons in a cluster for the customer data compared to the general population (e.g. 5% of persons are assigned to a cluster for the general population, but 15% of the customer data is closest to that cluster's centroid) then that suggests the people in that cluster to be a target audience for the company. On the other hand, the proportion of the data in a cluster being larger in the general population than the customer data (e.g. only 2% of customers closest to a population centroid that captures 6% of the data) suggests that group of persons to be outside of the target demographics.\n",
    "\n",
    "Take a look at the following points in this step:\n",
    "\n",
    "- Compute the proportion of data points in each cluster for the general population and the customer data. Visualizations will be useful here: both for the individual dataset proportions, but also to visualize the ratios in cluster representation between groups. Seaborn's [`countplot()`](https://seaborn.pydata.org/generated/seaborn.countplot.html) or [`barplot()`](https://seaborn.pydata.org/generated/seaborn.barplot.html) function could be handy.\n",
    "  - Recall the analysis you performed in step 1.1.3 of the project, where you separated out certain data points from the dataset if they had more than a specified threshold of missing values. If you found that this group was qualitatively different from the main bulk of the data, you should treat this as an additional data cluster in this analysis. Make sure that you account for the number of data points in this subset, for both the general population and customer datasets, when making your computations!\n",
    "- Which cluster or clusters are overrepresented in the customer dataset compared to the general population? Select at least one such cluster and infer what kind of people might be represented by that cluster. Use the principal component interpretations from step 2.3 or look at additional components to help you make this inference. Alternatively, you can use the `.inverse_transform()` method of the PCA and StandardScaler objects to transform centroids back to the original data space and interpret the retrieved values directly.\n",
    "- Perform a similar investigation for the underrepresented clusters. Which cluster or clusters are underrepresented in the customer dataset compared to the general population, and what kinds of people are typified by these clusters?"
   ]
  },
  {
   "cell_type": "code",
   "execution_count": null,
   "metadata": {},
   "outputs": [],
   "source": [
    "# Compare the proportion of data in each cluster for the customer data to the\n",
    "# proportion of data in each cluster for the general population.\n",
    "\n"
   ]
  },
  {
   "cell_type": "code",
   "execution_count": null,
   "metadata": {},
   "outputs": [],
   "source": [
    "# What kinds of people are part of a cluster that is overrepresented in the\n",
    "# customer data compared to the general population?\n",
    "\n"
   ]
  },
  {
   "cell_type": "code",
   "execution_count": null,
   "metadata": {},
   "outputs": [],
   "source": [
    "# What kinds of people are part of a cluster that is underrepresented in the\n",
    "# customer data compared to the general population?\n",
    "\n"
   ]
  },
  {
   "cell_type": "markdown",
   "metadata": {},
   "source": [
    "### Discussion 3.3: Compare Customer Data to Demographics Data\n",
    "\n",
    "(Double-click this cell and replace this text with your own text, reporting findings and conclusions from the clustering analysis. Can we describe segments of the population that are relatively popular with the mail-order company, or relatively unpopular with the company?)"
   ]
  },
  {
   "cell_type": "markdown",
   "metadata": {},
   "source": [
    "> Congratulations on making it this far in the project! Before you finish, make sure to check through the entire notebook from top to bottom to make sure that your analysis follows a logical flow and all of your findings are documented in **Discussion** cells. Once you've checked over all of your work, you should export the notebook as an HTML document to submit for evaluation. You can do this from the menu, navigating to **File -> Download as -> HTML (.html)**. You will submit both that document and this notebook for your project submission."
   ]
  },
  {
   "cell_type": "code",
   "execution_count": null,
   "metadata": {},
   "outputs": [],
   "source": []
  }
 ],
 "metadata": {
  "kernelspec": {
   "display_name": "Python [conda env:clustering]",
   "language": "python",
   "name": "conda-env-clustering-py"
  },
  "language_info": {
   "codemirror_mode": {
    "name": "ipython",
    "version": 3
   },
   "file_extension": ".py",
   "mimetype": "text/x-python",
   "name": "python",
   "nbconvert_exporter": "python",
   "pygments_lexer": "ipython3",
   "version": "3.6.8"
  },
  "toc": {
   "base_numbering": 1,
   "nav_menu": {},
   "number_sections": true,
   "sideBar": true,
   "skip_h1_title": false,
   "title_cell": "Table of Contents",
   "title_sidebar": "Contents",
   "toc_cell": false,
   "toc_position": {},
   "toc_section_display": true,
   "toc_window_display": false
  },
  "toc-autonumbering": false,
  "toc-showtags": false,
  "varInspector": {
   "cols": {
    "lenName": 16,
    "lenType": 16,
    "lenVar": 40
   },
   "kernels_config": {
    "python": {
     "delete_cmd_postfix": "",
     "delete_cmd_prefix": "del ",
     "library": "var_list.py",
     "varRefreshCmd": "print(var_dic_list())"
    },
    "r": {
     "delete_cmd_postfix": ") ",
     "delete_cmd_prefix": "rm(",
     "library": "var_list.r",
     "varRefreshCmd": "cat(var_dic_list()) "
    }
   },
   "types_to_exclude": [
    "module",
    "function",
    "builtin_function_or_method",
    "instance",
    "_Feature"
   ],
   "window_display": false
  }
 },
 "nbformat": 4,
 "nbformat_minor": 2
}
