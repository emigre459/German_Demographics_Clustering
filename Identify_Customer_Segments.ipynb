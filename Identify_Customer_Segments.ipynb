{
 "cells": [
  {
   "cell_type": "markdown",
   "metadata": {
    "toc-hr-collapsed": true
   },
   "source": [
    "# Project: Identify Customer Segments\n",
    "\n",
    "In this project, you will apply unsupervised learning techniques to identify segments of the population that form the core customer base for a mail-order sales company in Germany. These segments can then be used to direct marketing campaigns towards audiences that will have the highest expected rate of returns. The data that you will use has been provided by our partners at Bertelsmann Arvato Analytics, and represents a real-life data science task.\n",
    "\n",
    "This notebook will help you complete this task by providing a framework within which you will perform your analysis steps. In each step of the project, you will see some text describing the subtask that you will perform, followed by one or more code cells for you to complete your work. **Feel free to add additional code and markdown cells as you go along so that you can explore everything in precise chunks.** The code cells provided in the base template will outline only the major tasks, and will usually not be enough to cover all of the minor tasks that comprise it.\n",
    "\n",
    "It should be noted that while there will be precise guidelines on how you should handle certain tasks in the project, there will also be places where an exact specification is not provided. **There will be times in the project where you will need to make and justify your own decisions on how to treat the data.** These are places where there may not be only one way to handle the data. In real-life tasks, there may be many valid ways to approach an analysis task. One of the most important things you can do is clearly document your approach so that other scientists can understand the decisions you've made.\n",
    "\n",
    "At the end of most sections, there will be a Markdown cell labeled **Discussion**. In these cells, you will report your findings for the completed section, as well as document the decisions that you made in your approach to each subtask. **Your project will be evaluated not just on the code used to complete the tasks outlined, but also your communication about your observations and conclusions at each stage.**"
   ]
  },
  {
   "cell_type": "code",
   "execution_count": null,
   "metadata": {},
   "outputs": [],
   "source": [
    "# import libraries here; add more as necessary\n",
    "import numpy as np\n",
    "import pandas as pd\n",
    "import matplotlib.pyplot as plt\n",
    "import seaborn as sns\n",
    "#import plotly_express as px\n",
    "import pandas_profiling as pdp\n",
    "\n",
    "# magic word for producing visualizations in notebook\n",
    "%matplotlib inline\n",
    "\n",
    "# Setup some nice defaults for dataframe display\n",
    "pd.set_option(\"display.max_columns\", 85)\n",
    "pd.set_option(\"display.max_rows\", 85)\n",
    "\n",
    "# Given the expected size of our DataFrames, need to disable jedi for speeding up autocompletion\n",
    "%config Completer.use_jedi = False"
   ]
  },
  {
   "cell_type": "markdown",
   "metadata": {},
   "source": [
    "### Step 0: Load the Data\n",
    "\n",
    "There are four files associated with this project (not including this one):\n",
    "\n",
    "- `Udacity_AZDIAS_Subset.csv`: Demographics data for the general population of Germany; 891211 persons (rows) x 85 features (columns).\n",
    "- `Udacity_CUSTOMERS_Subset.csv`: Demographics data for customers of a mail-order company; 191652 persons (rows) x 85 features (columns).\n",
    "- `Data_Dictionary.md`: Detailed information file about the features in the provided datasets.\n",
    "- `AZDIAS_Feature_Summary.csv`: Summary of feature attributes for demographics data; 85 features (rows) x 4 columns\n",
    "\n",
    "Each row of the demographics files represents a single person, but also includes information outside of individuals, including information about their household, building, and neighborhood. You will use this information to cluster the general population into groups with similar demographic properties. Then, you will see how the people in the customers dataset fit into those created clusters. The hope here is that certain clusters are over-represented in the customers data, as compared to the general population; those over-represented clusters will be assumed to be part of the core userbase. This information can then be used for further applications, such as targeting for a marketing campaign.\n",
    "\n",
    "To start off with, load in the demographics data for the general population into a pandas DataFrame, and do the same for the feature attributes summary. Note for all of the `.csv` data files in this project: they're semicolon (`;`) delimited, so you'll need an additional argument in your [`read_csv()`](https://pandas.pydata.org/pandas-docs/stable/generated/pandas.read_csv.html) call to read in the data properly. Also, considering the size of the main dataset, it may take some time for it to load completely.\n",
    "\n",
    "Once the dataset is loaded, it's recommended that you take a little bit of time just browsing the general structure of the dataset and feature summary file. You'll be getting deep into the innards of the cleaning in the first major step of the project, so gaining some general familiarity can help you get your bearings."
   ]
  },
  {
   "cell_type": "code",
   "execution_count": null,
   "metadata": {},
   "outputs": [],
   "source": [
    "# Load in the general demographics data.\n",
    "gen_pop = pd.read_csv('data/Udacity_AZDIAS_Subset.csv', sep=';')\n",
    "gen_pop.head()"
   ]
  },
  {
   "cell_type": "code",
   "execution_count": null,
   "metadata": {},
   "outputs": [],
   "source": [
    "# Load in the feature summary file.\n",
    "feat_info = pd.read_csv('data/AZDIAS_Feature_Summary.csv', sep=';')\n",
    "feat_info"
   ]
  },
  {
   "cell_type": "code",
   "execution_count": null,
   "metadata": {},
   "outputs": [],
   "source": [
    "# Check the structure of the data after it's loaded (e.g. print the number of\n",
    "# rows and columns, print the first few rows).\n",
    "\n",
    "gen_pop.info(memory_usage='deep')"
   ]
  },
  {
   "cell_type": "markdown",
   "metadata": {},
   "source": [
    "**That's weird. This says that I have 891,221 rows but the data dictionary and Udacity project page indicate that there should be 10 fewer entries than that, 891,211.** A typo in the data dictionary page perhaps? Or maybe the data have been updated? \n",
    "\n",
    "Or perhaps something more nefarious?"
   ]
  },
  {
   "cell_type": "code",
   "execution_count": null,
   "metadata": {
    "toc-hr-collapsed": true
   },
   "outputs": [],
   "source": [
    "# Do some quick automated EDA\n",
    "# This will help especially in indicating the original amount of naturally missing data\n",
    "# prior to mapping the missing/unknown value codes to np.nan\n",
    "\n",
    "pdp.ProfileReport(gen_pop)\n"
   ]
  },
  {
   "cell_type": "markdown",
   "metadata": {
    "toc-hr-collapsed": false
   },
   "source": [
    "## Step 1: Preprocessing\n",
    "\n",
    "### Step 1.1: Assess Missing Data\n",
    "\n",
    "The feature summary file contains a summary of properties for each demographics data column. You will use this file to help you make cleaning decisions during this stage of the project. First of all, you should assess the demographics data in terms of missing data. Pay attention to the following points as you perform your analysis, and take notes on what you observe. Make sure that you fill in the **Discussion** cell with your findings and decisions at the end of each step that has one!\n",
    "\n",
    "#### Step 1.1.1: Convert Missing Value Codes to NaNs\n",
    "The fourth column of the feature attributes summary (loaded in above as `feat_info`) documents the codes from the data dictionary that indicate missing or unknown data. While the file encodes this as a list (e.g. `[-1,0]`), this will get read in as a string object. You'll need to do a little bit of parsing to make use of it to identify and clean the data. Convert data that matches a 'missing' or 'unknown' value code into a numpy NaN value. You might want to see how much data takes on a 'missing' or 'unknown' code, and how much data is naturally missing, as a point of interest.\n",
    "\n",
    "**As one more reminder, you are encouraged to add additional cells to break up your analysis into manageable chunks.**"
   ]
  },
  {
   "cell_type": "code",
   "execution_count": null,
   "metadata": {},
   "outputs": [],
   "source": [
    "# Look at naturally missing data first\n",
    "\n",
    "missing = pd.DataFrame(gen_pop.isnull().sum()).rename(columns = {0: 'total missing'})\n",
    "missing['percent missing'] = round(missing['total missing'] / len(gen_pop),2)\n",
    "missing.sort_values('total missing', ascending = False, inplace=True)\n",
    "missing"
   ]
  },
  {
   "cell_type": "code",
   "execution_count": null,
   "metadata": {},
   "outputs": [],
   "source": [
    "none_missing_count = len(missing[missing['total missing'] > 0])\n",
    "print(\n",
    "    f\"{none_missing_count} columns have a nonzero number of naturally missing values\")\n"
   ]
  },
  {
   "cell_type": "markdown",
   "metadata": {},
   "source": [
    "**Oof, looks like the consumer behavior type (`KK_KUNDENTYP`) is pretty sorely lacking values.** Hard to say if it will be the dominant \"missing value\" feature once we fill in the coded missing values with `np.nan`, but given that it's more than 60% missing I'll probably need to drop it as a feature. In my experience, features with that many missing values are rarely useful for modeling."
   ]
  },
  {
   "cell_type": "code",
   "execution_count": null,
   "metadata": {},
   "outputs": [],
   "source": [
    "# Convert the strings for the missing values from the feature summary\n",
    "# To be proper lists of values to use for filling in NaNs\n",
    "\n",
    "# First, remove brackets\n",
    "# Then, split on comma separator\n",
    "feat_info.loc[:, 'missing_or_unknown'] = \\\n",
    "    feat_info.loc[:, 'missing_or_unknown'].str[1:-1].str.split(',')\n",
    "\n",
    "feat_info\n"
   ]
  },
  {
   "cell_type": "code",
   "execution_count": null,
   "metadata": {},
   "outputs": [],
   "source": [
    "# What columns are object (probably mixed) type?\n",
    "gen_pop.columns[gen_pop.dtypes == 'object']"
   ]
  },
  {
   "cell_type": "code",
   "execution_count": null,
   "metadata": {},
   "outputs": [],
   "source": [
    "# What unique data types exist within the object-type columns?\n",
    "col_types = {}\n",
    "\n",
    "for col in gen_pop.columns[gen_pop.dtypes == 'object']:\n",
    "    types = set()\n",
    "    col_types[col] = set([type(e) for e in gen_pop[col]])\n",
    "    \n",
    "col_types"
   ]
  },
  {
   "cell_type": "markdown",
   "metadata": {},
   "source": [
    "**Good to know! Looks like all object-type columns are of mixed float and str type**. This will help us do intelligent typecasting as we parse through the `feat_info` missing codes below.\n",
    "\n",
    "A few other notes (ignoring codes used for missing):\n",
    "\n",
    "1. `OST_WEST_KZ`\n",
    "    1. Can be \"O\" or \"W\"\n",
    "2. `CAMEO_DEUG_2015`\n",
    "    1. All int\n",
    "3. `CAMEO_DEU_2015`\n",
    "    1. Alphanumeric (of form INT-LETTER)\n",
    "4. `CAMEO_INTL_2015`\n",
    "    1. All int"
   ]
  },
  {
   "cell_type": "code",
   "execution_count": null,
   "metadata": {},
   "outputs": [],
   "source": [
    "def fill_missing(df, missing_codes_mapping, inplace=False):\n",
    "    '''\n",
    "    Parses dataframe of missing values and their mapping to individual feature names\n",
    "    and then fills any of those values found in a dataframe's matching feature columns\n",
    "    with np.nan.\n",
    "\n",
    "    Inputs\n",
    "    ------\n",
    "    df: pandas DataFrame. Table with features that match the ones for which we have\n",
    "        missing mappings. Each sample is a person.\n",
    "\n",
    "    missing_codes_mapping: pandas DataFrame. Contains columns 'attribute' and \n",
    "        'missing_or_unknown' that map codes used for missing/unknown values to \n",
    "        features/attributes. 'missing_or_unknown' is expected to have elements\n",
    "        that are lists of str (usually ints, but sometimes chars or empty lists).\n",
    "\n",
    "    Returns\n",
    "    -------\n",
    "    df with NaN values filled in according to missing_codes_mapping\n",
    "    '''\n",
    "\n",
    "    # Use deep copy if inplace = False, otherwise use shallow copy\n",
    "    data = df.copy(deep=not inplace)\n",
    "    missing_codes = missing_codes_mapping.copy(deep=not inplace)\n",
    "\n",
    "    def parse_missing_codes(code_list):\n",
    "        '''\n",
    "        Goes through a list of str and converts the elements of the list according to the needs \n",
    "        of the dtypes in our demographic data such that the results can be used for \n",
    "        filling in NaN values.\n",
    "\n",
    "        Inputs\n",
    "        ------\n",
    "        code_list: list of str. List is expected to contain the chars, floats, or ints \n",
    "            that are codes indicating a missing or unknown value.\n",
    "\n",
    "        Returns\n",
    "        -------\n",
    "        list or np.nan. Each element of the list returned is typecast according to \n",
    "            the expected needs of the NaN-filling it will be doing. Empty lists\n",
    "            (or lists with only an empty string in them) are returned as np.nan.\n",
    "        '''\n",
    "\n",
    "        # Make sure list isn't just empty string\n",
    "        if '' not in code_list:\n",
    "            # Check if list can be converted to int without issues - if so, do it\n",
    "            try:\n",
    "                return [int(e) for e in code_list]\n",
    "\n",
    "            # Not all are cast-able to int\n",
    "            except ValueError:\n",
    "                return [float(e) if 'X' not in e else e for e in code_list]\n",
    "\n",
    "        else:\n",
    "            return np.nan\n",
    "\n",
    "    # Typecast missing value codes appropriately\n",
    "    missing_codes.loc[:, 'missing_or_unknown'] = \\\n",
    "        missing_codes.loc[:, 'missing_or_unknown'].apply(parse_missing_codes)\n",
    "\n",
    "    # Create series that maps feature names (index) to missing codes (data)\n",
    "    code_map = pd.Series(data=missing_codes['missing_or_unknown'].values,\n",
    "                         index=missing_codes['attribute'].values)\n",
    "\n",
    "    # When passing a Series into to_replace, index is key and data is value (like a dict)\n",
    "    data.replace(to_replace=code_map,\n",
    "                 value=np.nan,\n",
    "                 inplace=True)\n",
    "\n",
    "    return data\n"
   ]
  },
  {
   "cell_type": "code",
   "execution_count": null,
   "metadata": {},
   "outputs": [],
   "source": [
    "# Replace codes we know to mean \"missing\" or \"unknown\" with NaN\n",
    "gen_pop = fill_missing(gen_pop, feat_info)\n",
    "gen_pop.head()"
   ]
  },
  {
   "cell_type": "code",
   "execution_count": null,
   "metadata": {},
   "outputs": [],
   "source": [
    "# TODO: make sure when importing customer data to use same dtypes as gen_pop"
   ]
  },
  {
   "cell_type": "markdown",
   "metadata": {},
   "source": [
    "#### Step 1.1.2: Assess Missing Data in Each Column\n",
    "\n",
    "How much missing data is present in each column? There are a few columns that are outliers in terms of the proportion of values that are missing. You will want to use matplotlib's [`hist()`](https://matplotlib.org/api/_as_gen/matplotlib.pyplot.hist.html) function to visualize the distribution of missing value counts to find these columns. Identify and document these columns. While some of these columns might have justifications for keeping or re-encoding the data, for this project you should just remove them from the dataframe. (Feel free to make remarks about these outlier columns in the discussion, however!)\n",
    "\n",
    "For the remaining features, are there any patterns in which columns have, or share, missing data?"
   ]
  },
  {
   "cell_type": "code",
   "execution_count": null,
   "metadata": {
    "toc-hr-collapsed": false
   },
   "outputs": [],
   "source": [
    "# Automated EDA again now that we've encoded our missing values as np.nan properly\n",
    "\n",
    "pdp.ProfileReport(gen_pop)"
   ]
  },
  {
   "cell_type": "code",
   "execution_count": null,
   "metadata": {},
   "outputs": [],
   "source": [
    "# What do the missing data counts look like now, by column?\n",
    "\n",
    "missing_filled = pd.DataFrame(gen_pop.isnull().sum()).rename(columns = {0: 'total missing'})\n",
    "missing_filled['percent missing'] = round(missing_filled['total missing'] / len(gen_pop),2)\n",
    "missing_filled.sort_values('total missing', ascending = False, inplace=True)\n",
    "missing_filled"
   ]
  },
  {
   "cell_type": "markdown",
   "metadata": {},
   "source": [
    "**Well that's a non-trivial change!** The first profile I generated prior to filling in missing values had 6.4% of all values missing, now we're at 10.6%! Additionally:\n",
    "\n",
    "1. Before NaN-filling, we only had one feature with more than 15% of values missing (`KK_KUNDENTYP`) and 32 features with no missing values at all. \n",
    "    1. After filling in the NaN codes with `np.nan`, we end up with 9 having more than 15% of values missing and 25 with no missing values.\n",
    "1. `AGER_TYPE` has **77% of its values missing.** It wasn't even flagged as special prior to the NaN-filling step.\n",
    "2. `ALTER_HH` went from 8.2% missing to **34.8% missing!**\n",
    "3. Other examples exist (6 more I haven't mentioned that are above 15% missing)"
   ]
  },
  {
   "cell_type": "code",
   "execution_count": null,
   "metadata": {},
   "outputs": [],
   "source": [
    "none_missing_count = len(missing[missing['total missing'] > 0])\n",
    "print(\n",
    "    f\"{none_missing_count} columns have a nonzero number of missing values now\")\n"
   ]
  },
  {
   "cell_type": "code",
   "execution_count": null,
   "metadata": {},
   "outputs": [],
   "source": [
    "# Visualize the missing count across columns\n",
    "\n",
    "fig, (ax1, ax2) = plt.subplots(nrows=2)\n",
    "\n",
    "# Total counts of missing\n",
    "sns.distplot(gen_pop.isnull().sum(axis=0), bins=50, ax=ax1)\n",
    "ax1.set(title=f'Distribution of Missing Values in Each Column')\n",
    "\n",
    "# Percentage missing\n",
    "sns.distplot(gen_pop.isnull().sum(axis=0)/len(gen_pop), bins=50, ax=ax2)\n",
    "ax2.set(title=f'Distribution of Missing Values in Each Column', ymargin=-0.4)\n",
    "\n",
    "plt.tight_layout()"
   ]
  },
  {
   "cell_type": "markdown",
   "metadata": {},
   "source": [
    "It seems pretty clear here that any features that have more than 200k (20%) missing values are \"outliers\" in the sense that they are far from the majority of features which are below this threshold. But, that being said, perhaps we should look at each feature first and determine if it might have a lot of relevant information useful for analysis, even if it is substantially lacking values?"
   ]
  },
  {
   "cell_type": "code",
   "execution_count": null,
   "metadata": {},
   "outputs": [],
   "source": [
    "missing_filled[missing_filled['total missing'] > 2E5]"
   ]
  },
  {
   "cell_type": "markdown",
   "metadata": {},
   "source": [
    "Here are the meanings of these six features:\n",
    "\n",
    "1. `TITEL_KZ`: Academic Title - categorical\n",
    "    * Since this one is missing all or nearly all of its values, I see no reason this should be retained\n",
    "2. `AGER_TYP`: Elderly Type - categorical\n",
    "    * To be honest, I don't quite know what this one even is. And since it would only apply to a small portion of the dataset (those considered \"elderly\") it seems like it isn't crucial in terms of providing information, especially since we have other features that provide us with age-related information anyhow.\n",
    "    * Let's drop it.\n",
    "3. `KK_KUNDENTYP`: Household-level customer type - categorical\n",
    "    * As this one has a large amount of missing values (66%) and seems somewhat duplicative with `RETOURTYP_BK_S`, I think we can drop it\n",
    "4. `KBA05_BAUMAX`: RR3: Most Common Bldg Type - mixed\n",
    "    * We can probably drop this one too, as it's more than 50% missing and is somewhat duplicative in information with the other `KBA05` features\n",
    "5. `GEBURTSJAHR`: Birth Year - numeric\n",
    "    * This is where it gets a bit tougher. I tend not to be too worried about dropping features with more than 50% missing values, but this one is only at 44%. As this is the specific birth year (at least as implied by the data dictionary), it is likely a better measure of the age of each individual in the dataset than even the `ALTERSKATEGORIE_GROB` feature, so we'll retain it\n",
    "    * I freely admit that I originally intended to drop this one, as it was well outside the majority of features in terms of the distribution of missing values by feature shown in the preceding visualization, but the instructions later in this project made me change my mind (since they indicate I shouldn't have dropped any numeric or interval features). Given that, [upon further research](https://towardsdatascience.com/how-to-handle-missing-data-8646b18db0d4) I found some guidance to retain a feature and impute its missing values when it has less than 50-60% missing, I was willing to be convinced that this feature should be retained.\n",
    "6. `ALTER_HH`: Head of Household birthdate (bin) - interval\n",
    "    * This one is a little less helpful than `GEBURTSJAHR` as it only provides the head of household's birth year in 5-year bins. So given that fact and that it's still significantly more missing values than the rest of the features with less than 200,000 missing values, I'm going to drop it."
   ]
  },
  {
   "cell_type": "code",
   "execution_count": null,
   "metadata": {},
   "outputs": [],
   "source": [
    "# Remove the outlier columns from the dataset\n",
    "\n",
    "outlier_cols = ['ALTER_HH', 'KBA05_BAUMAX', 'KK_KUNDENTYP',\n",
    "                'AGER_TYP', 'TITEL_KZ']\n",
    "gen_pop.drop(columns=outlier_cols, inplace=True)\n"
   ]
  },
  {
   "cell_type": "code",
   "execution_count": null,
   "metadata": {},
   "outputs": [],
   "source": [
    "# Re-assess after dropping outlier features\n",
    "\n",
    "missing_noOutliers = pd.DataFrame(gen_pop.isnull().sum()).rename(columns = {0: 'total missing'})\n",
    "missing_noOutliers['percent missing'] = round(missing_noOutliers['total missing'] / len(gen_pop),2)\n",
    "missing_noOutliers.sort_values('total missing', ascending = False, inplace=True)\n",
    "missing_noOutliers"
   ]
  },
  {
   "cell_type": "code",
   "execution_count": null,
   "metadata": {},
   "outputs": [],
   "source": [
    "# What does missing count distribution look like now?\n",
    "\n",
    "sns.distplot(gen_pop.isnull().sum(axis=0)/len(gen_pop),\n",
    "            bins = 50)"
   ]
  },
  {
   "cell_type": "code",
   "execution_count": null,
   "metadata": {},
   "outputs": [],
   "source": [
    "# First things first: if I'm going to make sense out of these, I need more helpful names\n",
    "\n",
    "# Read in the names mapping CSV as a dict\n",
    "new_names = pd.read_csv('col_renaming.csv', header=None, index_col=0,\n",
    "                        squeeze=True).to_dict()\n",
    "\n",
    "gen_pop.rename(columns=new_names, inplace=True)\n"
   ]
  },
  {
   "cell_type": "code",
   "execution_count": null,
   "metadata": {},
   "outputs": [],
   "source": [
    "# Need to stop sorting by amount missing and leave in original sort order\n",
    "# so I can more easily compare to the data dictionary file\n",
    "\n",
    "missing_noSort = pd.DataFrame(gen_pop.isnull().sum()).rename(columns = {0: 'total missing'})\n",
    "missing_noSort['percent missing'] = round(missing_noSort['total missing'] / len(gen_pop),2)\n",
    "\n",
    "missing_noSort[missing_noSort['total missing'] < 50000]\n",
    "#missing_noSort[missing_noSort['total missing'] > 50000]"
   ]
  },
  {
   "cell_type": "code",
   "execution_count": null,
   "metadata": {},
   "outputs": [],
   "source": [
    "#missing_noSort[missing_noSort['total missing'] < 50000]\n",
    "missing_noSort[missing_noSort['total missing'] > 50000]"
   ]
  },
  {
   "cell_type": "markdown",
   "metadata": {},
   "source": [
    "#### Discussion 1.1.2: Assess Missing Data in Each Column\n",
    "\n",
    "Some notes on patterns I noticed during my exploration of the missing data as a function of column/feature:\n",
    "\n",
    "1. Before matching codes for unknown/missing values and filling in those values with `np.nan`, we had 6.4% of all values reported as missing. Afterwards, 10.6% of all values were missing.\n",
    "2. I removed features with more than 50% missing values as they appeared to be outliers in terms of the amount of missing values relative to the overall feature set and for the reasons discussed above.\n",
    "3. In the data that are remaining, I see clear breakpoints between features with 0% - 2% missing values, those with 8% - 18% missing, and the two features with 35% and 44% missing values.\n",
    "    * **Those in the group with 0% - 2% missing:**\n",
    "        * There are 32 features included in this subset/sample\n",
    "        * Of those 32, all but two (`RR1: Online Affinity` and `HH: Net Income Bins`) are person-level measures (30, in other words). Given that ~50% of all features are person-level, this suggests that person-level features are overrepresented in the subset (if the information levels were distributed the same in this sample as they are in the total population, we'd expect only 16-17 features to be person-level). \n",
    "            * Also, this means that 70% of the total 43 possible person-level features in the full feature space are represented in this sample.\n",
    "        * Given that Head of Household birthdate and individual birth year both had very high missing data counts (causing them to be dropped as outliers), it's surprising to see `Age Bin` with such a relatively low number of missing values. That seems really odd, but likely it is due to the method used for determining the age of an individual. The `Age Bin` values cover 15-30 year chunks of a person's life, whereas the birth year and head of household birth date features had resolutions of 1 and 5 years, resp.\n",
    "        * It's also interesting to note that `Consumption Channel Type`, `Vacation Habits`, `Customer Type`, `Socioeconomic Status - HighRes`, `Socioeconomic Status - LowRes`, and `Online Affinity` all have the exact same number of missing values. This suggests to me that they all came from the same data source and likely used the same methodology for their derivation, as this pattern seems a little too consistent to be random.\n",
    "    * **Those in the group with 8% - 18% missing:**\n",
    "        * There are 47 features included in this sample/subset\n",
    "        * Of those 47, 10 (21%) are person-level features, suggesting that missing/unknown data are much more common at the higher-level resolutions than at the person-level. \n",
    "            * This strikes me as odd, given especially that many of those person-level feature values were likely not directly measured, but rather derived from higher-level datasets (e.g. statistically modeled from census data).\n",
    "        * It seems particularly odd that so many of the features that have higher missing value rates seem to be highly measurable quantities (e.g. from census/GIS data, such as the number of inhabitants in a community).\n",
    "    * **I already discussed my thoughts on those with 35% and 44% missing.**\n",
    "        * I retained the 44% missing birth year feature, as it seems to provide significant information useful for later analysis\n",
    "        * One other thought: these are age-related variables, one at the person-level and one at the household-level. It seems odd to me that the `Age Bin` feature should be in the lowest missing value count group and these in the highest. Even though they have significantly higher resolutions than the `Age Bin` feature, they must still be drawn from very different data sources, since they shouldn't be *so* different. Strange."
   ]
  },
  {
   "cell_type": "markdown",
   "metadata": {},
   "source": [
    "#### Step 1.1.3: Assess Missing Data in Each Row\n",
    "\n",
    "Now, you'll perform a similar assessment for the rows of the dataset. How much data is missing in each row? As with the columns, you should see some groups of points that have a very different numbers of missing values. Divide the data into two subsets: one for data points that are above some threshold for missing values, and a second subset for points below that threshold.\n",
    "\n",
    "In order to know what to do with the outlier rows, we should see if the distribution of data values on columns that are not missing data (or are missing very little data) are similar or different between the two groups. Select at least five of these columns and compare the distribution of values.\n",
    "- You can use seaborn's [`countplot()`](https://seaborn.pydata.org/generated/seaborn.countplot.html) function to create a bar chart of code frequencies and matplotlib's [`subplot()`](https://matplotlib.org/api/_as_gen/matplotlib.pyplot.subplot.html) function to put bar charts for the two subplots side by side.\n",
    "- To reduce repeated code, you might want to write a function that can perform this comparison, taking as one of its arguments a column to be compared.\n",
    "\n",
    "Depending on what you observe in your comparison, this will have implications on how you approach your conclusions later in the analysis. If the distributions of non-missing features look similar between the data with many missing values and the data with few or no missing values, then we could argue that simply dropping those points from the analysis won't present a major issue. On the other hand, if the data with many missing values looks very different from the data with few or no missing values, then we should make a note on those data as special. We'll revisit these data later on. **Either way, you should continue your analysis for now using just the subset of the data with few or no missing values.**"
   ]
  },
  {
   "cell_type": "code",
   "execution_count": null,
   "metadata": {},
   "outputs": [],
   "source": [
    "# How many duplicate rows are there?\n",
    "\n",
    "dups = len(gen_pop) - len(gen_pop.drop_duplicates())\n",
    "\n",
    "print(f\"There are {dups} duplicate rows in the dataset, \\\n",
    "representing {round(dups/len(gen_pop)*100,2)}% of all samples.\")"
   ]
  },
  {
   "cell_type": "markdown",
   "metadata": {},
   "source": [
    "**This is a non-trivial fraction of data that are duplicates.** However, since we don't have person-level IDs for each record, it's impossible to tell if these are truly duplicates or merely extremely similar people. As such, we'll leave these alone."
   ]
  },
  {
   "cell_type": "code",
   "execution_count": null,
   "metadata": {},
   "outputs": [],
   "source": [
    "# What do the missing data counts look like now, by row?\n",
    "\n",
    "rows_oneMissing_filled = len(gen_pop) - len(gen_pop.dropna(how='any'))\n",
    "rows_allMissing_filled = len(gen_pop) - len(gen_pop.dropna(how='all'))\n",
    "\n",
    "print(f\"There are {rows_oneMissing_filled} samples with at least one feature missing a value \\\n",
    "\\nand {rows_allMissing_filled} samples missing values for all features\")"
   ]
  },
  {
   "cell_type": "code",
   "execution_count": null,
   "metadata": {},
   "outputs": [],
   "source": [
    "# How much data is missing in each row of the dataset?\n",
    "\n",
    "fig, ax = plt.subplots()\n",
    "fig.suptitle('Fraction of Different Amounts of Missing Values Across Rows')\n",
    "\n",
    "sns.distplot(gen_pop.isnull().sum(axis=1), kde=False, norm_hist=True, ax=ax)\n",
    "ax.set(xlabel='Number of Columns with Missing Values')"
   ]
  },
  {
   "cell_type": "code",
   "execution_count": null,
   "metadata": {},
   "outputs": [],
   "source": [
    "# How much data is missing in each row of the dataset?\n",
    "\n",
    "fig, ax = plt.subplots()\n",
    "fig.suptitle('Fraction of Different Amounts of Missing Values Across Rows')\n",
    "\n",
    "sns.distplot(gen_pop.isnull().sum(axis=1), kde=False, norm_hist=True, ax=ax)\n",
    "ax.set(xlabel='Number of Columns with Missing Values', xlim=(0,5))"
   ]
  },
  {
   "cell_type": "markdown",
   "metadata": {},
   "source": [
    "**Well, it looks like a pretty safe bet to say that we should subset the data into rows with up to one missing value and rows with 2+ missing values,** since the former comprises around 70% of the data it seems."
   ]
  },
  {
   "cell_type": "code",
   "execution_count": null,
   "metadata": {},
   "outputs": [],
   "source": [
    "# Write code to divide the data into two subsets based on the number of missing\n",
    "# values in each row.\n",
    "\n",
    "gen_pop_lowMissing = gen_pop.loc[gen_pop.isnull().sum(axis=1) < 2,:]\n",
    "gen_pop_highMissing = gen_pop.loc[gen_pop.isnull().sum(axis=1) >= 2,:]\n",
    "\n",
    "\n",
    "# Let's just check that our numbers work out as we expct them to\n",
    "print(f\"There are {len(gen_pop_lowMissing)} rows that have one or fewer missing values\")\n",
    "print(f\"There are {len(gen_pop_highMissing)} rows that have 2+ missing values\")\n",
    "print(f\"There are {len(gen_pop_lowMissing) + len(gen_pop_highMissing)} \\\n",
    "rows when you combine these two\")\n",
    "print(f\"\\nThere are {len(gen_pop)} rows in the full dataset\")"
   ]
  },
  {
   "cell_type": "code",
   "execution_count": null,
   "metadata": {},
   "outputs": [],
   "source": [
    "# Compare the distribution of values for at least five columns where there are\n",
    "# no or few missing values, between the two subsets.\n",
    "\n",
    "def dist_compare(df, missing_count, column):\n",
    "    '''\n",
    "    Compares the distribution of values for a single feature \n",
    "    between two subsets of a DataFrame, subsetting based upon the number of missing values\n",
    "    allowed per row (e.g. one distribution is only of rows with less than X missing values,\n",
    "    the other is only of rows with at least X missing values).\n",
    "    \n",
    "    Inputs\n",
    "    ------\n",
    "    df: pandas DataFrame in long format\n",
    "        \n",
    "    missing_count: int. Number of missing values to use as breakpoint for subsetting df\n",
    "    \n",
    "    column: str. Column name of feature from the DataFrames that you're investigating.\n",
    "    \n",
    "    \n",
    "    Returns\n",
    "    -------\n",
    "    Matplotlib figure comparing the two distributions.\n",
    "    '''\n",
    "\n",
    "    fig, (ax_lowMissing, ax_highMissing) = plt.subplots(ncols=2)\n",
    "    fig.suptitle(f'Distributions of Mostly Complete Features - {column}\\\n",
    "    \\nMissing Values Breakpoint = {missing_count}', \n",
    "                 fontsize=15, y=1.2)\n",
    "    plt.figure(figsize=(20,5))\n",
    "\n",
    "    \n",
    "    sns.distplot(df.loc[df.isnull().sum(axis=1) < missing_count, column].dropna(), \n",
    "                 ax=ax_lowMissing)\n",
    "    ax_lowMissing.set(title=f'Rows with Fewer \\nMissing Values')\n",
    "\n",
    "    sns.distplot(df.loc[df.isnull().sum(axis=1) >= missing_count, column].dropna(), \n",
    "                 ax=ax_highMissing)\n",
    "    ax_highMissing.set(title=f'Rows with More \\nMissing Values')"
   ]
  },
  {
   "cell_type": "code",
   "execution_count": null,
   "metadata": {},
   "outputs": [],
   "source": [
    "# The features that are completely or almost completely filled\n",
    "# and likely to show more than just two values in the distribution\n",
    "\n",
    "full_cols = ['Energy Consumption Type', 'MoneyType__Primary',\n",
    "            'Age Bin', 'Customer Type', 'RR1: Online Affinity',\n",
    "            'Vacation Habits']"
   ]
  },
  {
   "cell_type": "code",
   "execution_count": null,
   "metadata": {},
   "outputs": [],
   "source": [
    "missing_values_breakpoint = 2"
   ]
  },
  {
   "cell_type": "code",
   "execution_count": null,
   "metadata": {},
   "outputs": [],
   "source": [
    "dist_compare(gen_pop, missing_values_breakpoint, 'Energy Consumption Type')"
   ]
  },
  {
   "cell_type": "markdown",
   "metadata": {},
   "source": [
    "It's clear from these plots of `Energy Consumption Type` that, while both subsets seem to have a majority of people with an energy consumption pattern of 3 (\"fair supplied\"), this majority is a larger fraction of the total subset for the data with a higher missing value count."
   ]
  },
  {
   "cell_type": "code",
   "execution_count": null,
   "metadata": {},
   "outputs": [],
   "source": [
    "dist_compare(gen_pop, missing_values_breakpoint, 'MoneyType__Primary')"
   ]
  },
  {
   "cell_type": "markdown",
   "metadata": {},
   "source": [
    "Much like with `Energy Consumption Type`, there seems to be a dominant feature value for `MoneyType__Primary` when you look at the subset with a high missing value count. In this case, it's code 4: \"be prepared\". There's also a clearly dominant code for the low missing values data: code 6 (\"inconspicuous\")."
   ]
  },
  {
   "cell_type": "code",
   "execution_count": null,
   "metadata": {},
   "outputs": [],
   "source": [
    "dist_compare(gen_pop, missing_values_breakpoint, 'Age Bin')"
   ]
  },
  {
   "cell_type": "markdown",
   "metadata": {},
   "source": [
    "**This one is a little more subtle than the preceding two.** For the most part, the two subset distributions for `Age Bin` look the same, with the only notable difference being that code 4 (> 60 years old) is a smaller fraction of the overall distribution for the high missing values subset than it is for the low missing values one."
   ]
  },
  {
   "cell_type": "code",
   "execution_count": null,
   "metadata": {},
   "outputs": [],
   "source": [
    "dist_compare(gen_pop, missing_values_breakpoint, 'Customer Type')"
   ]
  },
  {
   "cell_type": "markdown",
   "metadata": {},
   "source": [
    "As with `Age Bin`, `Customer Type` has a more subtle distributional difference between the two ssubsets. That said, it looks like it would be fair to say that code 5 (\"determined Minimal-Returner\") is the dominant feature for the low missing values subset and code 3 (\"incentive-receptive Normal-Returner\")"
   ]
  },
  {
   "cell_type": "code",
   "execution_count": null,
   "metadata": {},
   "outputs": [],
   "source": [
    "dist_compare(gen_pop, missing_values_breakpoint, 'RR1: Online Affinity')"
   ]
  },
  {
   "cell_type": "markdown",
   "metadata": {},
   "source": [
    "For `RR1: Online Affinity`, there can be no doubt: code 2 (\"middle\") is the dominant feature for the high missing values subset, and the codes are pretty uniformly distributed for the low missing values subset."
   ]
  },
  {
   "cell_type": "code",
   "execution_count": null,
   "metadata": {},
   "outputs": [],
   "source": [
    "dist_compare(gen_pop, missing_values_breakpoint, 'Vacation Habits')"
   ]
  },
  {
   "cell_type": "markdown",
   "metadata": {},
   "source": [
    "For `Vacation Habits`, the pattern is clear: code 5 (nature fans) is the dominant feature for the high missing values subset and the distribution is pretty uniform across codes (although with a dip for codes 6 and 7 and an interesting overall positive slope) for the low missing values subset."
   ]
  },
  {
   "cell_type": "markdown",
   "metadata": {},
   "source": [
    "#### Discussion 1.1.3: Assess Missing Data in Each Row\n",
    "\n",
    "**Ultimately, it seems like the distributions are more uniform for the rows with low missing value counts than they are for the rows with high missing value counts.** As such, it's important to note that the distribution, at least of these features we spot-checked, is not so similar between the two subsets that we can easily say we've lost no information by excluding the rows with higher amounts of missing values. "
   ]
  },
  {
   "cell_type": "markdown",
   "metadata": {
    "toc-hr-collapsed": true
   },
   "source": [
    "### Step 1.2: Select and Re-Encode Features\n",
    "\n",
    "Checking for missing data isn't the only way in which you can prepare a dataset for analysis. Since the unsupervised learning techniques to be used will only work on data that is encoded numerically, you need to make a few encoding changes or additional assumptions to be able to make progress. In addition, while almost all of the values in the dataset are encoded using numbers, not all of them represent numeric values. Check the third column of the feature summary (`feat_info`) for a summary of types of measurement.\n",
    "- For numeric and interval data, these features can be kept without changes.\n",
    "- Most of the variables in the dataset are ordinal in nature. While ordinal values may technically be non-linear in spacing, make the simplifying assumption that the ordinal variables can be treated as being interval in nature (that is, kept without any changes).\n",
    "- Special handling may be necessary for the remaining two variable types: categorical, and 'mixed'.\n",
    "\n",
    "In the first two parts of this sub-step, you will perform an investigation of the categorical and mixed-type features and make a decision on each of them, whether you will keep, drop, or re-encode each. Then, in the last part, you will create a new data frame with only the selected and engineered columns.\n",
    "\n",
    "Data wrangling is often the trickiest part of the data analysis process, and there's a lot of it to be done here. But stick with it: once you're done with this step, you'll be ready to get to the machine learning parts of the project!"
   ]
  },
  {
   "cell_type": "code",
   "execution_count": null,
   "metadata": {},
   "outputs": [],
   "source": [
    "# Add new attribute names to feat_info\n",
    "\n",
    "feat_info['attribute_renamed'] = pd.read_csv('col_renaming.csv', header=None)[1]\n",
    "feat_info"
   ]
  },
  {
   "cell_type": "code",
   "execution_count": null,
   "metadata": {},
   "outputs": [],
   "source": [
    "# How many features are there of each data type?\n",
    "\n",
    "# I'm only looking at the features that still remain in gen_pop after dropping outlier features\n",
    "feat_info_remaining = feat_info.loc[feat_info['attribute_renamed'].isin(gen_pop.columns), :]\n",
    "feat_info_remaining['type'].value_counts()"
   ]
  },
  {
   "cell_type": "markdown",
   "metadata": {},
   "source": [
    "#### Step 1.2.1: Re-Encode Categorical Features\n",
    "\n",
    "For categorical data, you would ordinarily need to encode the levels as dummy variables. Depending on the number of categories, perform one of the following:\n",
    "- For binary (two-level) categoricals that take numeric values, you can keep them without needing to do anything.\n",
    "- There is one binary variable that takes on non-numeric values. For this one, you need to re-encode the values as numbers or create a dummy variable.\n",
    "- For multi-level categoricals (three or more values), you can choose to encode the values using multiple dummy variables (e.g. via [OneHotEncoder](http://scikit-learn.org/stable/modules/generated/sklearn.preprocessing.OneHotEncoder.html)), or (to keep things straightforward) just drop them from the analysis. As always, document your choices in the Discussion section."
   ]
  },
  {
   "cell_type": "code",
   "execution_count": null,
   "metadata": {},
   "outputs": [],
   "source": [
    "# Assess categorical variables: which are binary, which are multi-level, and\n",
    "# which one needs to be re-encoded?\n",
    "\n",
    "feat_info_remaining[feat_info_remaining['type'] == 'categorical']"
   ]
  },
  {
   "cell_type": "code",
   "execution_count": null,
   "metadata": {},
   "outputs": [],
   "source": [
    "# Figure out what different values are available for each feature\n",
    "\n",
    "cols = feat_info_remaining.loc[feat_info_remaining['type'] == 'categorical', 'attribute_renamed']\n",
    "\n",
    "unique_cat_vals = pd.DataFrame()\n",
    "\n",
    "for col in cols:\n",
    "    temp = pd.DataFrame({'attribute': col, 'unique values': gen_pop[col].unique()})\n",
    "    unique_cat_vals = pd.concat([unique_cat_vals, temp])\n",
    "    \n",
    "unique_cat_vals.groupby(['attribute']).count().sort_values('unique values')"
   ]
  },
  {
   "cell_type": "code",
   "execution_count": null,
   "metadata": {},
   "outputs": [],
   "source": [
    "# What are the values taken on by the binary features?\n",
    "\n",
    "binary_cols = unique_cat_vals.groupby(['attribute']).count().sort_values('unique values').index[:5]\n",
    "unique_cat_vals[unique_cat_vals['attribute'].isin(binary_cols)]"
   ]
  },
  {
   "cell_type": "markdown",
   "metadata": {},
   "source": [
    "**The following features appear to be binary in nature:**\n",
    "\n",
    "1. `Gender`\n",
    "1. `Young Environmentalist`\n",
    "2. `Bldg: Location Relative to E or W Germany`\n",
    "    * This one takes on values of 'W' and 'O' for West and East Germany, resp.\n",
    "    * Given it's non-numeric nature, we need to use dummy variables with this\n",
    "3. `Small or Home Office Owner`\n",
    "    * This one actually has `NaN` values, which means I need to use dummy variables with it too (so `NaN` can be reflected by `0,0`)\n",
    "5. `Insurance Type`\n",
    "    * This one also has `NaN` values, so I'll need to use a dummy with it too!\n",
    "\n",
    "**That leaves the following features for re-encoding through dummies:**\n",
    "\n",
    "1. `Nationality Based on Name`\n",
    "2. `Shopper Type`\n",
    "3. `Socioeconomic Status - LowRes`\n",
    "4. `Family Type - LowRes`\n",
    "5. `MoneyType__Primary`\n",
    "6. `Energy Consumption Type`\n",
    "7. `Consumption Channel Type`\n",
    "8. `Bldg: Building Type`\n",
    "9. `RR4: Life Stage Type - LowRes`\n",
    "10. `Socioeconomic Status - HighRes`\n",
    "11. `Family Type - HighRes`\n",
    "12. `Vacation Habits`\n",
    "13. `RR4: Life Stage Type - HighRes`"
   ]
  },
  {
   "cell_type": "code",
   "execution_count": null,
   "metadata": {},
   "outputs": [],
   "source": [
    "# Re-encode categorical variable(s) to be kept in the analysis.\n",
    "\n",
    "cat_cols = ['Bldg: Location Relative to E or W Germany',\n",
    "           'Small or Home Office Owner', 'Insurance Type',\n",
    "           'Nationality Based on Name', 'Shopper Type',\n",
    "            'Socioeconomic Status - LowRes', 'Family Type - LowRes',\n",
    "            'MoneyType__Primary', 'Energy Consumption Type',\n",
    "            'Consumption Channel Type', 'Bldg: Building Type',\n",
    "            'RR4: Life Stage Type - LowRes', 'Socioeconomic Status - HighRes',\n",
    "            'Family Type - HighRes', 'Vacation Habits', \n",
    "            'RR4: Life Stage Type - HighRes']\n",
    "\n",
    "# Have to drop first dummy so avoid Dummy Variable Trap\n",
    "# Have to include NaN dummy so zero-vector can't be interpreted ambiguously\n",
    "    # as either NaN or first dropped dummy (which are likely different)\n",
    "gen_pop_lowMissing = pd.get_dummies(\n",
    "    gen_pop_lowMissing, prefix_sep='__', \n",
    "    drop_first=True, dummy_na=True,\n",
    "    columns=cat_cols)\n",
    "\n",
    "gen_pop_lowMissing.columns"
   ]
  },
  {
   "cell_type": "code",
   "execution_count": null,
   "metadata": {},
   "outputs": [],
   "source": [
    "# What does our dataframe look like now?\n",
    "\n",
    "gen_pop_lowMissing.info()"
   ]
  },
  {
   "cell_type": "code",
   "execution_count": null,
   "metadata": {},
   "outputs": [],
   "source": [
    "gen_pop_lowMissing.dtypes.value_counts()"
   ]
  },
  {
   "cell_type": "code",
   "execution_count": null,
   "metadata": {},
   "outputs": [],
   "source": [
    "gen_pop_lowMissing.columns[gen_pop_lowMissing.dtypes == 'object']"
   ]
  },
  {
   "cell_type": "markdown",
   "metadata": {},
   "source": [
    "#### Discussion 1.2.1: Re-Encode Categorical Features\n",
    "\n",
    "**I treated these features as binary and not requiring further engineering:**\n",
    "\n",
    "1. `Gender`\n",
    "1. `Young Environmentalist`\n",
    "\n",
    "**I treated these features as binary but requiring dummy variables due to their encoding or due to the presence of `NaN` values:**\n",
    "\n",
    "1. `Bldg: Location Relative to E or W Germany`\n",
    "3. `Small or Home Office Owner`\n",
    "5. `Insurance Type`\n",
    "\n",
    "**And I used dummies to encode these multi-level categoricals:**\n",
    "\n",
    "1. `Nationality Based on Name`\n",
    "2. `Shopper Type`\n",
    "3. `Socioeconomic Status - LowRes`\n",
    "4. `Family Type - LowRes`\n",
    "5. `MoneyType__Primary`\n",
    "6. `Energy Consumption Type`\n",
    "7. `Consumption Channel Type`\n",
    "8. `Bldg: Building Type`\n",
    "9. `RR4: Life Stage Type - LowRes`\n",
    "10. `Socioeconomic Status - HighRes`\n",
    "11. `Family Type - HighRes`\n",
    "12. `Vacation Habits`\n",
    "13. `RR4: Life Stage Type - HighRes`"
   ]
  },
  {
   "cell_type": "markdown",
   "metadata": {},
   "source": [
    "#### Step 1.2.2: Engineer Mixed-Type Features\n",
    "\n",
    "There are a handful of features that are marked as \"mixed\" in the feature summary that require special treatment in order to be included in the analysis. There are two in particular that deserve attention; the handling of the rest are up to your own choices:\n",
    "- \"PRAEGENDE_JUGENDJAHRE\" combines information on three dimensions: generation by decade, movement (mainstream vs. avantgarde), and nation (east vs. west). While there aren't enough levels to disentangle east from west, you should create two new variables to capture the other two dimensions: an interval-type variable for decade, and a binary variable for movement.\n",
    "- \"CAMEO_INTL_2015\" combines information on two axes: wealth and life stage. Break up the two-digit codes by their 'tens'-place and 'ones'-place digits into two new ordinal variables (which, for the purposes of this project, is equivalent to just treating them as their raw numeric values).\n",
    "- If you decide to keep or engineer new features around the other mixed-type features, make sure you note your steps in the Discussion section.\n",
    "\n",
    "Be sure to check `Data_Dictionary.md` for the details needed to finish these tasks."
   ]
  },
  {
   "cell_type": "markdown",
   "metadata": {},
   "source": [
    "**Mapping for `Generation Designation` Re-Encoding:**\n",
    "\n",
    "Original Code | Original Code Meaning | Decade Code | Movement Code\n",
    "--- | --- | --- | ---\n",
    "1 | 40s - war years (Mainstream, E+W) | 0 | 0\n",
    "2 | 40s - reconstruction years (Avantgarde, E+W) | 0 | 1\n",
    "3 | 50s - economic miracle (Mainstream, E+W) | 1 | 0\n",
    "4 | 50s - milk bar / Individualisation (Avantgarde, E+W) | 1 | 1\n",
    "5 | 60s - economic miracle (Mainstream, E+W) | 2 | 0\n",
    "6 | 60s - generation 68 / student protestors (Avantgarde, W) | 2 | 1\n",
    "7 | 60s - opponents to the building of the Wall (Avantgarde, E) | 2 | 1\n",
    "8 | 70s - family orientation (Mainstream, E+W) | 3 | 0\n",
    "9 | 70s - peace movement (Avantgarde, E+W) | 3 | 1\n",
    "10 | 80s - Generation Golf (Mainstream, W) | 4 | 0\n",
    "11 | 80s - ecological awareness (Avantgarde, W) | 4 | 1\n",
    "12 | 80s - FDJ / communist party youth organisation (Mainstream, E) | 4 | 0\n",
    "13 | 80s - Swords into ploughshares (Avantgarde, E) | 4 | 1\n",
    "14 | 90s - digital media kids (Mainstream, E+W) | 5 | 0\n",
    "15 | 90s - ecological awareness (Avantgarde, E+W) | 5 | 1"
   ]
  },
  {
   "cell_type": "code",
   "execution_count": null,
   "metadata": {},
   "outputs": [],
   "source": [
    "def data_mapper(series, mapping_dict):\n",
    "    '''\n",
    "    Reads in a pandas Series object that represents the Generation Designation feature\n",
    "    and returns a re-encoded series according to mapping_dict.\n",
    "\n",
    "    Inputs\n",
    "    ------\n",
    "    series: pandas Series of integer codes (1 through 15) representing different\n",
    "        Generation Designation values\n",
    "\n",
    "    mapping_dict: dict of form {designation_code: new_code} used to determine what\n",
    "        values to return\n",
    "\n",
    "\n",
    "    Returns\n",
    "    -------\n",
    "    pandas Series with the new codes\n",
    "    '''\n",
    "    \n",
    "    # Since NaN values aren't always propagated as expected, do a quick check\n",
    "    print(f\"There are {series.isnull().sum()} null values in the series \\\n",
    "    {series.name} prior to extraction\")\n",
    "    \n",
    "    out = series.map(mapping_dict, na_action = 'ignore')\n",
    "    \n",
    "    print(f\"There are {out.isnull().sum()} null values in the series \\\n",
    "    {series.name} after extraction\")\n",
    "    \n",
    "    return out              \n"
   ]
  },
  {
   "cell_type": "code",
   "execution_count": null,
   "metadata": {},
   "outputs": [],
   "source": [
    "decade_code_map = {\n",
    "    1: 0,\n",
    "    2: 0,\n",
    "    3: 1,\n",
    "    4: 1,\n",
    "    5: 2,\n",
    "    6: 2,\n",
    "    7: 2,\n",
    "    8: 3,\n",
    "    9: 3,\n",
    "    10: 4,\n",
    "    11: 4,\n",
    "    12: 4,\n",
    "    13: 4,\n",
    "    14: 5,\n",
    "    15: 5\n",
    "}"
   ]
  },
  {
   "cell_type": "code",
   "execution_count": null,
   "metadata": {},
   "outputs": [],
   "source": [
    "# Investigate \"PRAEGENDE_JUGENDJAHRE\" and engineer two new variables.\n",
    "\n",
    "# Variable 1: generation by decade\n",
    "gen_pop_lowMissing['Generation Decade'] = \\\n",
    "    data_mapper(gen_pop_lowMissing['Generation Designation'],\n",
    "                              decade_code_map)\n"
   ]
  },
  {
   "cell_type": "code",
   "execution_count": null,
   "metadata": {},
   "outputs": [],
   "source": [
    "# Does it seem like this worked?\n",
    "# Should be min of 0 and max of 5 \n",
    "\n",
    "gen_pop_lowMissing['Generation Decade'].describe()"
   ]
  },
  {
   "cell_type": "code",
   "execution_count": null,
   "metadata": {},
   "outputs": [],
   "source": [
    "gen_pop_lowMissing['Generation Decade'].name"
   ]
  },
  {
   "cell_type": "code",
   "execution_count": null,
   "metadata": {},
   "outputs": [],
   "source": [
    "movement_code_map = {\n",
    "    1: 0,\n",
    "    2: 1,\n",
    "    3: 0,\n",
    "    4: 1,\n",
    "    5: 0,\n",
    "    6: 1,\n",
    "    7: 1,\n",
    "    8: 0,\n",
    "    9: 1,\n",
    "    10: 0,\n",
    "    11: 1,\n",
    "    12: 0,\n",
    "    13: 1,\n",
    "    14: 0,\n",
    "    15: 1\n",
    "}\n"
   ]
  },
  {
   "cell_type": "code",
   "execution_count": null,
   "metadata": {},
   "outputs": [],
   "source": [
    "# Feature: \"PRAEGENDE_JUGENDJAHRE\"\n",
    "\n",
    "# Variable 2: movement type\n",
    "gen_pop_lowMissing['Generation Movement'] = \\\n",
    "    data_mapper(gen_pop_lowMissing['Generation Designation'],\n",
    "                              movement_code_map)"
   ]
  },
  {
   "cell_type": "code",
   "execution_count": null,
   "metadata": {},
   "outputs": [],
   "source": [
    "# Does it seem like this worked?\n",
    "# Should be min of 0 and max of 1\n",
    "\n",
    "gen_pop_lowMissing['Generation Movement'].describe()"
   ]
  },
  {
   "cell_type": "code",
   "execution_count": null,
   "metadata": {},
   "outputs": [],
   "source": [
    "# Drop Generation Designation feature now that we've captured its information in the new features\n",
    "gen_pop_lowMissing.drop(columns='Generation Designation', inplace=True)"
   ]
  },
  {
   "cell_type": "markdown",
   "metadata": {},
   "source": [
    "**Mapping for `RR4: Life Stage Type - Int'l Code Mapping` Re-Encoding:**\n",
    "\n",
    "Original Code | Original Code Meaning | Wealth Code | Life Stage Code\n",
    "--- | --- | --- | ---\n",
    "11 | Wealthy Households - Pre-Family Couples & Singles | 1 | 1\n",
    "12 | Wealthy Households - Young Couples With Children | 1 | 2\n",
    "13 | Wealthy Households - Families With School Age Children | 1 | 3\n",
    "14 | Wealthy Households - Older Families & Mature Couples | 1 | 4\n",
    "15 | Wealthy Households - Elders In Retirement | 1 | 5\n",
    "21 | Prosperous Households - Pre-Family Couples & Singles | 2 | 1\n",
    "22 | Prosperous Households - Young Couples With Children | 2 | 2\n",
    "23 | Prosperous Households - Families With School Age Children | 2 | 3\n",
    "24 | Prosperous Households - Older Families & Mature Couples | 2 | 4\n",
    "25 | Prosperous Households - Elders In Retirement | 2 | 5\n",
    "31 | Comfortable Households - Pre-Family Couples & Singles | 3 | 1\n",
    "32 | Comfortable Households - Young Couples With Children | 3 | 2\n",
    "33 | Comfortable Households - Families With School Age Children | 3 | 3\n",
    "34 | Comfortable Households - Older Families & Mature Couples | 3 | 4\n",
    "35 | Comfortable Households - Elders In Retirement | 3 | 5\n",
    "41 | Less Affluent Households - Pre-Family Couples & Singles | 4 | 1\n",
    "42 | Less Affluent Households - Young Couples With Children | 4 | 2\n",
    "43 | Less Affluent Households - Families With School Age Children | 4 | 3\n",
    "44 | Less Affluent Households - Older Families & Mature Couples | 4 | 4\n",
    "45 | Less Affluent Households - Elders In Retirement | 4 | 5\n",
    "51 | Poorer Households - Pre-Family Couples & Singles | 5 | 1\n",
    "52 | Poorer Households - Young Couples With Children | 5 | 2\n",
    "53 | Poorer Households - Families With School Age Children | 5 | 3\n",
    "54 | Poorer Households - Older Families & Mature Couples | 5 | 4\n",
    "55 | Poorer Households - Elders In Retirement | 5 | 5"
   ]
  },
  {
   "cell_type": "code",
   "execution_count": null,
   "metadata": {},
   "outputs": [],
   "source": [
    "# Investigate \"CAMEO_INTL_2015\" and engineer two new variables.\n",
    "\n",
    "# \"CAMEO_INTL_2015\" combines information on two axes: wealth and life stage. \n",
    "# Break up the two-digit codes by their 'tens'-place and 'ones'-place digits into two new \n",
    "# ordinal variables (which, for the purposes of this project, is equivalent to just treating \n",
    "# them as their raw numeric values).\n",
    "\n",
    "# Cast as int since it seems to keep coming up as object type\n",
    "gen_pop_lowMissing[\"RR4: Life Stage Type - Int'l Code Mapping\"] =\\\n",
    "gen_pop_lowMissing[\"RR4: Life Stage Type - Int'l Code Mapping\"].astype(int)\n",
    "\n",
    "# Extract the tens digit - wealth code\n",
    "gen_pop_lowMissing[\"RR4: Life Stage Type - Int'l - Wealth\"] = \\\n",
    "(gen_pop_lowMissing[\"RR4: Life Stage Type - Int'l Code Mapping\"] / 10).astype(int)\n",
    "\n",
    "# Extract the ones digit - life stage code\n",
    "gen_pop_lowMissing[\"RR4: Life Stage Type - Int'l - Stage\"] = \\\n",
    "gen_pop_lowMissing[\"RR4: Life Stage Type - Int'l Code Mapping\"] % 10"
   ]
  },
  {
   "cell_type": "code",
   "execution_count": null,
   "metadata": {},
   "outputs": [],
   "source": [
    "# Should be between 1 and 5\n",
    "gen_pop_lowMissing[\"RR4: Life Stage Type - Int'l - Wealth\"].describe()"
   ]
  },
  {
   "cell_type": "code",
   "execution_count": null,
   "metadata": {},
   "outputs": [],
   "source": [
    "# Should be between 1 and 5\n",
    "gen_pop_lowMissing[\"RR4: Life Stage Type - Int'l - Stage\"].describe()"
   ]
  },
  {
   "cell_type": "code",
   "execution_count": null,
   "metadata": {},
   "outputs": [],
   "source": [
    "# Drop lngering RR4: Life Stage Type - Int'l Code Mapping feature\n",
    "gen_pop_lowMissing.drop(columns=\"RR4: Life Stage Type - Int'l Code Mapping\", inplace=True)"
   ]
  },
  {
   "cell_type": "code",
   "execution_count": null,
   "metadata": {},
   "outputs": [],
   "source": [
    "# What other features do I need to look at?\n",
    "\n",
    "# Ignoring the two features I just worked on\n",
    "feat_info_remaining[feat_info_remaining['type'] == 'mixed'].drop(labels=[22,59])"
   ]
  },
  {
   "cell_type": "markdown",
   "metadata": {},
   "source": [
    "**As you're typically better off when modeling to have more features instead of fewer ones (at least prior to feature selection and dimensionality reduction), especially if there is somewhat duplicative data within an original feature, I'm going to opt to split these features up whenever possible.**\n",
    "\n",
    "Here are my thoughts\n",
    "\n",
    "1. `Life Stage - HighRes` and ` - LowRes`: lots of info, but inconsistent levels\n",
    "    * These have information related to age, marital status, income level, homeownership status, and (birth?) household type, making them potentially rich for new generating new features\n",
    "    * *However*, the levels are very inconsistent across the codes, making it impossible to pull out the same information across all original codes \n",
    "        * Even if we were willing to drop information like we did earlier for the `Generation Designation` feature (East vs. West, if you recall), we couldn't do that here since some values have a completely different set of levels than others do.\n",
    "    * As a result of all of this, I'm going to be treating these as though they're categorical, making dummies out of all of them\n",
    "2. `Bldg: Neighborhood Quality`: non-obvious ordering of values\n",
    "    * `Bldg: Neighborhood Quality` seems at first glance to be clearly ordinal, until you realize that \"rural\" and \"new building rural\" aren't inherently *less than* a \"very poor neighborhood\"\n",
    "    * The plan: we'll split this into a Rural categorical (dummy) feature and set any observations with the rural codes in the original feature to np.nan, so we can maintain the ordinal information as much as possible as well as the rural/urban split information, even though we won't have any quality information on the rural buildings (which we never had to begin with!)\n",
    "3. `PLZ8: Most Common Bldg Type`: mixed ordering\n",
    "    * If I'm interpreting this one correctly, it refers to the size of buildings (e.g. how many families can be housed within one). That would seem to me to be an indication of square footage, but since multi-family buildings are measured differently than businesses (e.g. a convenience store is much smaller than a 10-family home, but a grocery store is much larger), it's not appropriate to keep them on the same ordinal scale.\n",
    "    * That being said, the other `PLZ8` features essentially capture the scale of majority building type if it is a certain size of multi-family home. The only new information provided in this feature is if it is primarily business buildings, so we'll simply make it a binary feature indicating if business buildings are the primary property type or not."
   ]
  },
  {
   "cell_type": "code",
   "execution_count": null,
   "metadata": {},
   "outputs": [],
   "source": [
    "# First, the easy ones: dummies for Life Stage - HighRes, and Life Stage - LowRes\n",
    "\n",
    "cat_cols = ['Life Stage - HighRes',\n",
    "           'Life Stage - LowRes']\n",
    "\n",
    "gen_pop_lowMissing = pd.get_dummies(\n",
    "    gen_pop_lowMissing, prefix_sep='__', \n",
    "    drop_first=True, dummy_na=True,\n",
    "    columns=cat_cols)\n",
    "\n",
    "gen_pop_lowMissing.info()"
   ]
  },
  {
   "cell_type": "markdown",
   "metadata": {},
   "source": [
    "**Mapping for `Bldg: Neighborhood Quality` Re-Encoding:**\n",
    "\n",
    "Original Code | Original Code Meaning | Neighborhood Quality Code | Rural Code\n",
    "--- | --- | --- | ---\n",
    "0 | no score calculated | 0 | np.nan\n",
    "1 | very good neighborhood | 1 | 0\n",
    "2 | good neighborhood | 2 | 0\n",
    "3 | average neighborhood | 3 | 0\n",
    "4 | poor neighborhood | 4 | 0\n",
    "5 | very poor neighborhood | 5 | 0\n",
    "7 | rural neighborhood | 0 | 1\n",
    "8 | new building in rural neighborhood | 0 | 2"
   ]
  },
  {
   "cell_type": "code",
   "execution_count": null,
   "metadata": {},
   "outputs": [],
   "source": [
    "# Map the rural codes to a new feature\n",
    "\n",
    "rural_code_map = {\n",
    "    0: np.nan,\n",
    "    1: 0,\n",
    "    2: 0,\n",
    "    3: 0,\n",
    "    4: 0,\n",
    "    5: 0,\n",
    "    7: 1,\n",
    "    8: 2\n",
    "}\n",
    "\n",
    "gen_pop_lowMissing['Bldg: Rural Type'] = \\\n",
    "    data_mapper(gen_pop_lowMissing['Bldg: Neighborhood Quality'],\n",
    "                rural_code_map)\n"
   ]
  },
  {
   "cell_type": "code",
   "execution_count": null,
   "metadata": {},
   "outputs": [],
   "source": [
    "# Make dummies out of the multi-level Rural Type categorical\n",
    "cat_cols = ['Bldg: Rural Type']\n",
    "\n",
    "gen_pop_lowMissing = pd.get_dummies(gen_pop_lowMissing,\n",
    "                                    prefix_sep='__',\n",
    "                                    drop_first=True,\n",
    "                                    dummy_na=True,\n",
    "                                    columns=cat_cols)\n"
   ]
  },
  {
   "cell_type": "code",
   "execution_count": null,
   "metadata": {},
   "outputs": [],
   "source": [
    "# Make the rural codes effectively unscored\n",
    "neighborhood_code_map = {\n",
    "    0: 0,\n",
    "    1: 1,\n",
    "    2: 2,\n",
    "    3: 3,\n",
    "    4: 4,\n",
    "    5: 5,\n",
    "    7: 0,\n",
    "    8: 0\n",
    "}\n",
    "\n",
    "gen_pop_lowMissing['Bldg: Neighborhood Quality'] = \\\n",
    "    data_mapper(gen_pop_lowMissing['Bldg: Neighborhood Quality'],\n",
    "                              neighborhood_code_map)"
   ]
  },
  {
   "cell_type": "markdown",
   "metadata": {},
   "source": [
    "**Mapping for `PLZ8: Most Common Bldg Type` Re-Encoding:**\n",
    "\n",
    "Original Code | Original Code Meaning | Business Bldg Code\n",
    "--- | --- | ---\n",
    "1 | mainly 1-2 family homes | 0\n",
    "2 | mainly 3-5 family homes | 0\n",
    "3 | mainly 6-10 family homes | 0\n",
    "4 | mainly 10+ family homes | 0\n",
    "5 | mainly business buildings | 1"
   ]
  },
  {
   "cell_type": "code",
   "execution_count": null,
   "metadata": {},
   "outputs": [],
   "source": [
    "biz_code_map = {\n",
    "    1: 0,\n",
    "    2: 0,\n",
    "    3: 0,\n",
    "    4: 0,\n",
    "    5: 1\n",
    "}\n",
    "\n",
    "gen_pop_lowMissing['PLZ8: Primarily Business Bldgs'] = \\\n",
    "    data_mapper(gen_pop_lowMissing['PLZ8: Most Common Bldg Type'],\n",
    "                              biz_code_map)\n"
   ]
  },
  {
   "cell_type": "code",
   "execution_count": null,
   "metadata": {},
   "outputs": [],
   "source": [
    "# Drop original feature, it's no longer useful\n",
    "gen_pop_lowMissing.drop(columns=['PLZ8: Most Common Bldg Type'],\n",
    "                         inplace=True)"
   ]
  },
  {
   "cell_type": "markdown",
   "metadata": {},
   "source": [
    "#### Discussion 1.2.2: Engineer Mixed-Type Features\n",
    "\n",
    "Summarizing all of my earlier notes on the mixed-type features:\n",
    "\n",
    "1. `Generation Designation` (`PRAEGENDE_JUGENDJAHRE`) was split into a feature focused on the decade of that person's generation and the movement they were associated with from that decade (avantgarde or mainstream)\n",
    "2. For `RR4: Life Stage Type - Int'l Code Mapping` (`CAMEO_INTL_2015`), I split the feature into two new features that extracted information from the original feature about a person's wealth level and their current life stage.\n",
    "3. As they didn't seem to have any meaningful ordinal/interval/numeric data that I needed to salvage, I decided to treat `Life Stage - HighRes` and `Life Stage - LowRes` as categorical variables and made dummies from them\n",
    "4. With `Bldg: Neighborhood Quality`, I made the assumption based on the levels of this variable that likely any codes that didn't mention rural buildings reflected areas that were not primarily rural. As such, I extracted a new multi-level categorical feature that indicates if a person's building is primarily in a rural neighborhood, in a rural neighborhood but a new building, or not in a rural neighborhood at all. I then made dummies out of this new feature. I otherwise left the feature as it was, since the neighborhood quality score (presumably for non-rural neighborhoods only) is of interval type (or at least ordinal).\n",
    "5. For our final mixed-type feature, `PLZ8: Most Common Bldg Type`, I investigated the feature's allowed levels a bit and determined that it was mostly redundant with the other PLZ8 features we already have. That being said, I determined that it shouldn't be dropped as it contained information about how prominent business buildings are in the PLZ8 region, something I didn't see reflected in the other features. So I stripped that information out of the feature as a binary feature unto itself and dropped the rest of the information."
   ]
  },
  {
   "cell_type": "markdown",
   "metadata": {},
   "source": [
    "#### Step 1.2.3: Complete Feature Selection\n",
    "\n",
    "In order to finish this step up, you need to make sure that your data frame now only has the columns that you want to keep. To summarize, the dataframe should consist of the following:\n",
    "- All numeric, interval, and ordinal type columns from the original dataset.\n",
    "- Binary categorical features (all numerically-encoded).\n",
    "- Engineered features from other multi-level categorical features and mixed features.\n",
    "\n",
    "Make sure that for any new columns that you have engineered, that you've excluded the original columns from the final dataset. Otherwise, their values will interfere with the analysis later on the project. For example, you should not keep \"PRAEGENDE_JUGENDJAHRE\", since its values won't be useful for the algorithm: only the values derived from it in the engineered features you created should be retained. As a reminder, your data should only be from **the subset with few or no missing values**."
   ]
  },
  {
   "cell_type": "code",
   "execution_count": null,
   "metadata": {},
   "outputs": [],
   "source": [
    "# Do whatever you need to in order to ensure that the dataframe only contains\n",
    "# the columns that should be passed to the algorithm functions.\n",
    "\n",
    "gen_pop_lowMissing.columns.values"
   ]
  },
  {
   "cell_type": "markdown",
   "metadata": {},
   "source": [
    "The primary thing I was worried about was remembering to drop features that we had extracted information out of. I don't want a bunch of redundant information lying about during modeling. Looking through the column names, **it appears I've managed to avoid this, so I'm satisfied!**\n",
    "\n",
    "That being said, I'm also going to quickly investigate the distribution of missing values by columns and rows again, since I added some NaN values as part of my feature engineering work. "
   ]
  },
  {
   "cell_type": "code",
   "execution_count": null,
   "metadata": {},
   "outputs": [],
   "source": [
    "# Check the columns\n",
    "\n",
    "fig, (ax1, ax2) = plt.subplots(nrows=2)\n",
    "\n",
    "# Total counts of missing\n",
    "sns.distplot(gen_pop.isnull().sum(axis=0),\n",
    "             kde=False, norm_hist=False, bins=50, ax=ax1)\n",
    "ax1.set(title=f'Distribution of Missing Values in Each Column')\n",
    "\n",
    "# Percentage missing\n",
    "sns.distplot(gen_pop.isnull().sum(axis=0)/len(gen_pop), \n",
    "             kde=False, norm_hist=False, bins=50, ax=ax2)\n",
    "ax2.set(title=f'Distribution of % Missing Values in Each Column')\n",
    "\n",
    "plt.tight_layout()"
   ]
  },
  {
   "cell_type": "code",
   "execution_count": null,
   "metadata": {},
   "outputs": [],
   "source": [
    "s = gen_pop.isnull().sum(axis=0)\n",
    "s[s>0]"
   ]
  },
  {
   "cell_type": "markdown",
   "metadata": {},
   "source": [
    "**OK, so the only meaningful one is `Birth Year`, which is no different than what we had before.** The only difference is that, at this point in our investigation, we've dropped rows, so now the missing value for `Birth Year` is now 37.5% of all rows, lower than before! "
   ]
  },
  {
   "cell_type": "code",
   "execution_count": null,
   "metadata": {},
   "outputs": [],
   "source": [
    "# Check the rows\n",
    "\n",
    "fig, ax = plt.subplots()\n",
    "fig.suptitle('Fraction of Different Amounts of Missing Values Across Rows')\n",
    "\n",
    "sns.distplot(gen_pop.isnull().sum(axis=1), kde=False, norm_hist=False, ax=ax)\n",
    "ax.set(xlabel='Number of Columns with Missing Values')"
   ]
  },
  {
   "cell_type": "markdown",
   "metadata": {},
   "source": [
    "**Fantastic! We still only have rows with zero or one missing values in them.** That works for me."
   ]
  },
  {
   "cell_type": "markdown",
   "metadata": {},
   "source": [
    "### Step 1.3: Create a Cleaning Function\n",
    "\n",
    "Even though you've finished cleaning up the general population demographics data, it's important to look ahead to the future and realize that you'll need to perform the same cleaning steps on the customer demographics data. In this substep, complete the function below to execute the main feature selection, encoding, and re-engineering steps you performed above. Then, when it comes to looking at the customer data in Step 3, you can just run this function on that DataFrame to get the trimmed dataset in a single step."
   ]
  },
  {
   "cell_type": "code",
   "execution_count": null,
   "metadata": {},
   "outputs": [],
   "source": [
    "def clean_data(df, feature_summary):\n",
    "    \"\"\"\n",
    "    Perform feature trimming, re-encoding, and engineering for demographics\n",
    "    data\n",
    "    \n",
    "    INPUTS\n",
    "    ------\n",
    "    df: Demographics DataFrame\n",
    "    \n",
    "    feature_summary: DataFrame that includes listing of the various missing value codes\n",
    "        for each feature\n",
    "        \n",
    "    OUTPUT: Trimmed and cleaned demographics DataFrame\n",
    "    \"\"\"\n",
    "    \n",
    "    # -------------------------------------------------------------------\n",
    "    # convert missing value codes into NaNs, ...\n",
    "\n",
    "    # Convert the strings for the missing values from the feature summary\n",
    "    # To be proper lists of values to use for filling in NaNs\n",
    "\n",
    "    # First, remove brackets\n",
    "    # Then, split on comma separator\n",
    "    feature_summary.loc[:, 'missing_or_unknown'] = \\\n",
    "        feature_summary.loc[:, 'missing_or_unknown'].str[1:-1].str.split(',')\n",
    "\n",
    "\n",
    "\n",
    "    def fill_missing(df, missing_codes_mapping, inplace=False):\n",
    "        '''\n",
    "        Parses dataframe of missing values and their mapping to individual feature names\n",
    "        and then fills any of those values found in a dataframe's matching feature columns\n",
    "        with np.nan.\n",
    "\n",
    "        Inputs\n",
    "        ------\n",
    "        df: pandas DataFrame. Table with features that match the ones for which we have\n",
    "            missing mappings. Each sample is a person.\n",
    "\n",
    "        missing_codes_mapping: pandas DataFrame. Contains columns 'attribute' and \n",
    "            'missing_or_unknown' that map codes used for missing/unknown values to \n",
    "            features/attributes. 'missing_or_unknown' is expected to have elements\n",
    "            that are lists of str (usually ints, but sometimes chars or empty lists).\n",
    "\n",
    "        Returns\n",
    "        -------\n",
    "        df with NaN values filled in according to missing_codes_mapping\n",
    "        '''\n",
    "\n",
    "        # Use deep copy if inplace = False, otherwise use actual inputs\n",
    "        if inplace:\n",
    "            data = df\n",
    "            missing_codes = missing_codes_mapping\n",
    "        else:            \n",
    "            data = df.copy(deep=True)\n",
    "            missing_codes = missing_codes_mapping.copy(deep=True)\n",
    "\n",
    "        def parse_missing_codes(code_list):\n",
    "            '''\n",
    "            Goes through a list of str and converts the elements of the list according to the needs \n",
    "            of the dtypes in our demographic data such that the results can be used for \n",
    "            filling in NaN values.\n",
    "\n",
    "            Inputs\n",
    "            ------\n",
    "            code_list: list of str. List is expected to contain the chars, floats, or ints \n",
    "                that are codes indicating a missing or unknown value.\n",
    "\n",
    "            Returns\n",
    "            -------\n",
    "            list or np.nan. Each element of the list returned is typecast according to \n",
    "                the expected needs of the NaN-filling it will be doing. Empty lists\n",
    "                (or lists with only an empty string in them) are returned as np.nan.\n",
    "            '''\n",
    "\n",
    "            # Make sure list isn't just empty string\n",
    "            if '' not in code_list:\n",
    "                # Check if list can be converted to int without issues - if so, do it\n",
    "                try:\n",
    "                    return [int(e) for e in code_list]\n",
    "\n",
    "                # Not all are cast-able to int\n",
    "                except ValueError:\n",
    "                    return [float(e) if 'X' not in e else e for e in code_list]\n",
    "\n",
    "            else:\n",
    "                return np.nan\n",
    "\n",
    "        # Typecast missing value codes appropriately\n",
    "        missing_codes.loc[:, 'missing_or_unknown'] = \\\n",
    "            missing_codes.loc[:, 'missing_or_unknown'].apply(parse_missing_codes)\n",
    "\n",
    "        # Create series that maps feature names (index) to missing codes (data)\n",
    "        code_map = pd.Series(data=missing_codes['missing_or_unknown'].values,\n",
    "                             index=missing_codes['attribute'].values)\n",
    "\n",
    "        # When passing a Series into to_replace, index is key and data is value (like a dict)\n",
    "        data.replace(to_replace=code_map,\n",
    "                     value=np.nan,\n",
    "                     inplace=True)\n",
    "\n",
    "        return data\n",
    "    \n",
    "\n",
    "    df = fill_missing(df, feature_summary)\n",
    "\n",
    "    # ------------------------------------------------------------------    \n",
    "    # remove selected columns and rows, ...\n",
    "\n",
    "    # Removing outlier features, except the one that provides a birth year\n",
    "    df.drop(columns=['ALTER_HH', 'KBA05_BAUMAX', 'KK_KUNDENTYP',\n",
    "        'AGER_TYP', 'TITEL_KZ'], inplace = True)\n",
    "\n",
    "    # If I'm going to make sense out of these, I need more helpful names\n",
    "\n",
    "    # Read in the names mapping CSV as a dict\n",
    "    new_names = pd.read_csv('col_renaming.csv', header=None, index_col=0,\n",
    "                            squeeze=True).to_dict()\n",
    "\n",
    "    df.rename(columns=new_names, inplace=True)\n",
    "\n",
    "    # Remove rows having more than one missing value\n",
    "    df = df.loc[df.isnull().sum(axis=1) < 2,:]\n",
    "\n",
    "    \n",
    "    # -------------------------------------------------------------------\n",
    "    # select, re-encode, and engineer column values.\n",
    "\n",
    "    # Re-encode categorical variable(s) to be kept in the analysis.\n",
    "    cat_cols = ['Bldg: Location Relative to E or W Germany',\n",
    "               'Small or Home Office Owner', 'Insurance Type',\n",
    "               'Nationality Based on Name', 'Shopper Type',\n",
    "                'Socioeconomic Status - LowRes', 'Family Type - LowRes',\n",
    "                'MoneyType__Primary', 'Energy Consumption Type',\n",
    "                'Consumption Channel Type', 'Bldg: Building Type',\n",
    "                'RR4: Life Stage Type - LowRes', 'Socioeconomic Status - HighRes',\n",
    "                'Family Type - HighRes', 'Vacation Habits', \n",
    "                'RR4: Life Stage Type - HighRes']\n",
    "\n",
    "    # Have to drop first dummy so avoid Dummy Variable Trap\n",
    "    # Have to include NaN dummy so zero-vector can't be interpreted ambiguously\n",
    "        # as either NaN or first dropped dummy (which are likely different)\n",
    "    df = pd.get_dummies(\n",
    "        df, prefix_sep='__', \n",
    "        drop_first=True, dummy_na=True,\n",
    "        columns=cat_cols)\n",
    "\n",
    "\n",
    "\n",
    "    def data_mapper(series, mapping_dict):\n",
    "        '''\n",
    "        Reads in a pandas Series object that represents the Generation Designation feature\n",
    "        and returns a re-encoded series according to mapping_dict.\n",
    "\n",
    "        Inputs\n",
    "        ------\n",
    "        series: pandas Series of integer codes (1 through 15) representing different\n",
    "            Generation Designation values\n",
    "\n",
    "        mapping_dict: dict of form {designation_code: new_code} used to determine what\n",
    "            values to return\n",
    "\n",
    "\n",
    "        Returns\n",
    "        -------\n",
    "        pandas Series with the new codes\n",
    "        '''\n",
    "        \n",
    "        # Since NaN values aren't always propagated as expected, do a quick check\n",
    "        print(f\"There are {series.isnull().sum()} null values in the series \\\n",
    "        {series.name} prior to extraction\")\n",
    "        \n",
    "        out = series.map(mapping_dict, na_action = 'ignore')\n",
    "        \n",
    "        print(f\"There are {out.isnull().sum()} null values in the series \\\n",
    "        {series.name} after extraction\")\n",
    "        \n",
    "        return out              \n",
    "\n",
    "\n",
    "    # For extracting decade of birth info from Generation Designation feature\n",
    "    decade_code_map = {\n",
    "    1: 0,\n",
    "    2: 0,\n",
    "    3: 1,\n",
    "    4: 1,\n",
    "    5: 2,\n",
    "    6: 2,\n",
    "    7: 2,\n",
    "    8: 3,\n",
    "    9: 3,\n",
    "    10: 4,\n",
    "    11: 4,\n",
    "    12: 4,\n",
    "    13: 4,\n",
    "    14: 5,\n",
    "    15: 5\n",
    "    }\n",
    "\n",
    "    df['Generation Decade'] = \\\n",
    "    data_mapper(df['Generation Designation'],\n",
    "        decade_code_map)\n",
    "\n",
    "    # For extracting generational movement from Generation Designation feature\n",
    "    movement_code_map = {\n",
    "    1: 0,\n",
    "    2: 1,\n",
    "    3: 0,\n",
    "    4: 1,\n",
    "    5: 0,\n",
    "    6: 1,\n",
    "    7: 1,\n",
    "    8: 0,\n",
    "    9: 1,\n",
    "    10: 0,\n",
    "    11: 1,\n",
    "    12: 0,\n",
    "    13: 1,\n",
    "    14: 0,\n",
    "    15: 1\n",
    "    }\n",
    "\n",
    "    df['Generation Movement'] = \\\n",
    "    data_mapper(df['Generation Designation'],\n",
    "        movement_code_map)\n",
    "\n",
    "    # Drop Generation Designation feature now that we've captured\n",
    "    # its information in the new features\n",
    "    df.drop(columns='Generation Designation', inplace=True)\n",
    "\n",
    "\n",
    "    # Cast as int since it seems to keep coming up as object type\n",
    "    df[\"RR4: Life Stage Type - Int'l Code Mapping\"] =\\\n",
    "    df[\"RR4: Life Stage Type - Int'l Code Mapping\"].astype(int)\n",
    "\n",
    "    # Extract the tens digit as an int - wealth code\n",
    "    df[\"RR4: Life Stage Type - Int'l - Wealth\"] = \\\n",
    "    (df[\"RR4: Life Stage Type - Int'l Code Mapping\"] \\\n",
    "        / 10).astype(int)\n",
    "\n",
    "    # Extract the ones digit - life stage code\n",
    "    df[\"RR4: Life Stage Type - Int'l - Stage\"] = \\\n",
    "    df[\"RR4: Life Stage Type - Int'l Code Mapping\"] % 10\n",
    "\n",
    "    # Drop lngering RR4: Life Stage Type - Int'l Code Mapping feature\n",
    "    df.drop(\n",
    "        columns=\"RR4: Life Stage Type - Int'l Code Mapping\", inplace=True)\n",
    "\n",
    "    # Make dummies for Life Stage - HighRes, and Life Stage - LowRes\n",
    "    cat_cols = ['Life Stage - HighRes',\n",
    "               'Life Stage - LowRes']\n",
    "\n",
    "    df = pd.get_dummies(\n",
    "        df, prefix_sep='__', \n",
    "        drop_first=True, dummy_na=True,\n",
    "        columns=cat_cols)\n",
    "\n",
    "    # For extracting rural neighborhood status from Neighborhood Quality\n",
    "    rural_code_map = {\n",
    "    0: np.nan,\n",
    "    1: 0,\n",
    "    2: 0,\n",
    "    3: 0,\n",
    "    4: 0,\n",
    "    5: 0,\n",
    "    7: 1,\n",
    "    8: 2\n",
    "    }\n",
    "\n",
    "    df['Bldg: Rural Type'] = data_mapper(df['Bldg: Neighborhood Quality'],\n",
    "        rural_code_map)\n",
    "\n",
    "    # Make dummies out of the multi-level Rural Type categorical\n",
    "    cat_cols = ['Bldg: Rural Type']\n",
    "\n",
    "    df = pd.get_dummies(df,\n",
    "        prefix_sep='__',\n",
    "        drop_first=True,\n",
    "        dummy_na=True,\n",
    "        columns=cat_cols)\n",
    "\n",
    "    # Exclude rural categories as though they weren't scored\n",
    "    neighborhood_code_map = {\n",
    "        0: 0,\n",
    "        1: 1,\n",
    "        2: 2,\n",
    "        3: 3,\n",
    "        4: 4,\n",
    "        5: 5,\n",
    "        7: 0,\n",
    "        8: 0\n",
    "        }\n",
    "\n",
    "    df['Bldg: Neighborhood Quality'] = \\\n",
    "    data_mapper(df['Bldg: Neighborhood Quality'],\n",
    "        neighborhood_code_map)\n",
    "\n",
    "    # For extracting business building dominance and dropping info about rest\n",
    "    biz_code_map = {\n",
    "    1: 0,\n",
    "    2: 0,\n",
    "    3: 0,\n",
    "    4: 0,\n",
    "    5: 1\n",
    "    }\n",
    "    \n",
    "    df['PLZ8: Primarily Business Bldgs'] = \\\n",
    "        data_mapper(df['PLZ8: Most Common Bldg Type'],\n",
    "            biz_code_map)\n",
    "\n",
    "    # Drop original feature, it's no longer useful\n",
    "    df.drop(columns=['PLZ8: Most Common Bldg Type'],\n",
    "                             inplace=True)\n",
    "\n",
    "\n",
    "    # -------------------------------------------------------------------\n",
    "    # Return the cleaned dataframe.\n",
    "    \n",
    "    return df"
   ]
  },
  {
   "cell_type": "code",
   "execution_count": null,
   "metadata": {},
   "outputs": [],
   "source": [
    "# Test out our new cleaning function\n",
    "\n",
    "# Load in the general demographics data.\n",
    "gen_pop = pd.read_csv('data/Udacity_AZDIAS_Subset.csv', sep=';')\n",
    "\n",
    "# Load in the feature summary file.\n",
    "feat_info = pd.read_csv('data/AZDIAS_Feature_Summary.csv', sep=';')\n",
    "\n",
    "gen_pop = clean_data(gen_pop, feat_info)\n",
    "gen_pop.info()"
   ]
  },
  {
   "cell_type": "markdown",
   "metadata": {
    "toc-hr-collapsed": false
   },
   "source": [
    "## Step 2: Feature Transformation\n",
    "\n",
    "### Step 2.1: Apply Feature Scaling\n",
    "\n",
    "Before we apply dimensionality reduction techniques to the data, we need to perform feature scaling so that the principal component vectors are not influenced by the natural differences in scale for features. Starting from this part of the project, you'll want to keep an eye on the [API reference page for sklearn](http://scikit-learn.org/stable/modules/classes.html) to help you navigate to all of the classes and functions that you'll need. In this substep, you'll need to check the following:\n",
    "\n",
    "- sklearn requires that data not have missing values in order for its estimators to work properly. So, before applying the scaler to your data, make sure that you've cleaned the DataFrame of the remaining missing values. This can be as simple as just removing all data points with missing data, or applying an [Imputer](http://scikit-learn.org/stable/modules/generated/sklearn.preprocessing.Imputer.html) to replace all missing values. You might also try a more complicated procedure where you temporarily remove missing values in order to compute the scaling parameters before re-introducing those missing values and applying imputation. Think about how much missing data you have and what possible effects each approach might have on your analysis, and justify your decision in the discussion section below.\n",
    "- For the actual scaling function, a [StandardScaler](http://scikit-learn.org/stable/modules/generated/sklearn.preprocessing.StandardScaler.html) instance is suggested, scaling each feature to mean 0 and standard deviation 1.\n",
    "- For these classes, you can make use of the `.fit_transform()` method to both fit a procedure to the data as well as apply the transformation to the data at the same time. Don't forget to keep the fit sklearn objects handy, since you'll be applying them to the customer demographics data towards the end of the project."
   ]
  },
  {
   "cell_type": "markdown",
   "metadata": {},
   "source": [
    "**Recalling what we saw towards the end of the preprocessing work, we know that about 60% of our rows have no missing values, with the remaining 40% having at least one missing value.** Additionally, here's a reminder on our current situation with regards to missing values at a feature level:"
   ]
  },
  {
   "cell_type": "code",
   "execution_count": null,
   "metadata": {},
   "outputs": [],
   "source": [
    "missing = pd.DataFrame(gen_pop.isnull().sum()).rename(columns = {0: 'total missing'})\n",
    "missing['percent missing'] = round(missing['total missing'] / len(gen_pop),2)\n",
    "missing.sort_values('total missing', ascending = False, inplace = True)\n",
    "missing"
   ]
  },
  {
   "cell_type": "markdown",
   "metadata": {},
   "source": [
    "**Obviously, the feature that would require the most imputation is `Birth Year`.** While I'm not thrilled about the fact that I'd be imputing this one substantially, my earlier logic on why it needs to be done (it's potentially a very useful age proxy variable, as `Age Bin` is very low resolution with 15-year bins) still holds. \n",
    "\n",
    "* All of this being said, if I find questionable results in the clustering produced later, I may opt to drop the `Birth Year` feature after all.\n",
    "\n",
    "Let's take a look at the distributions of non-missing values for each of these features to get an idea of what we're working with here."
   ]
  },
  {
   "cell_type": "code",
   "execution_count": null,
   "metadata": {},
   "outputs": [],
   "source": [
    "sns.distplot(gen_pop['Birth Year'].dropna())"
   ]
  },
  {
   "cell_type": "code",
   "execution_count": null,
   "metadata": {},
   "outputs": [],
   "source": [
    "gen_pop['Birth Year'].describe()"
   ]
  },
  {
   "cell_type": "code",
   "execution_count": null,
   "metadata": {},
   "outputs": [],
   "source": [
    "code_map = {\n",
    "    1: '< 30 years old',\n",
    "    2: '30 - 45 years old',\n",
    "    3: '46 - 60 years old',\n",
    "    4: '> 60 years old'\n",
    "}\n",
    "\n",
    "sns.distplot(gen_pop['Age Bin'].dropna())"
   ]
  },
  {
   "cell_type": "markdown",
   "metadata": {},
   "source": [
    "It looks like the majority `Age Bin` value (45-60 years old) corresponds roughly to the median `Birth Year` value of 1967 (given that the final year in the `Birth Year` feature is 2017, the midpoint of this bin would be 1965). Additionally, the `Birth Year` feature is left-skewed, which corresponds reasonably well with the `Age Bin` having its second peak for the oldest group (code 4, 60+ year olds). **It seems like using `Age Bin` as a way to impute `Birth Year` is a pretty reasonable plan!**"
   ]
  },
  {
   "cell_type": "code",
   "execution_count": null,
   "metadata": {},
   "outputs": [],
   "source": [
    "code_map = {\n",
    "    1: 'most likely',\n",
    "    2: 'very likely',\n",
    "    3: 'likely',\n",
    "    4: 'average',\n",
    "    5: 'unlikely',\n",
    "    6: 'very unlikely'\n",
    "}\n",
    "\n",
    "sns.distplot(gen_pop['HH: Probability of Children in Residence'].dropna())"
   ]
  },
  {
   "cell_type": "markdown",
   "metadata": {},
   "source": [
    "As I can see this feature being correlated with at least a few other features (e.g. `Family Types` and other regional-level family-oriented features), I hesitate to use a simple imputation method like the mode. Also, this feature is missing *relatively* few values (about 0.8% of the dataset). **Thus, I am going to simply drop the rows in which it is missing.**"
   ]
  },
  {
   "cell_type": "code",
   "execution_count": null,
   "metadata": {},
   "outputs": [],
   "source": [
    "sns.distplot(gen_pop['Bldg: Number of HHs'].dropna())"
   ]
  },
  {
   "cell_type": "code",
   "execution_count": null,
   "metadata": {},
   "outputs": [],
   "source": [
    "gen_pop['Bldg: Number of HHs'].describe()"
   ]
  },
  {
   "cell_type": "markdown",
   "metadata": {},
   "source": [
    "This one feels like it's on the cusp for me, decision-wise. I see a few regional-level features that might correlate with this one, so I'm hesitant to do a quick univariate imputation, but at the same time the amount of missing value is so low that I'm not too worried about improperly skewing the sample relative to the underlying population distribution. **So for this one I think I'll err on the side of not losing more data than I have to and I'll impute using the median** (the mean would be inappropriate, given that the distribution is so skewed)."
   ]
  },
  {
   "cell_type": "code",
   "execution_count": null,
   "metadata": {},
   "outputs": [],
   "source": [
    "sns.distplot(gen_pop['PLZ8: Number of Cars'].dropna())"
   ]
  },
  {
   "cell_type": "code",
   "execution_count": null,
   "metadata": {},
   "outputs": [],
   "source": [
    "gen_pop['PLZ8: Number of Cars'].describe()"
   ]
  },
  {
   "cell_type": "markdown",
   "metadata": {},
   "source": [
    "Much like the previous feature, I feel like this one has so few missing values that a simple imputation approach wouldn't impact the overall distribution too strongly. And, as a bonus, this one doesn't seem to have any intuitively related features elsewhere, strengthening that argument. **So we'll plan to also impute this one using the median, given its amount of skew.**"
   ]
  },
  {
   "cell_type": "code",
   "execution_count": null,
   "metadata": {},
   "outputs": [],
   "source": [
    "code_map = {\n",
    "    1: 'building is located in a 125 x 125m grid cell (RA1), which is a consumption cell',\n",
    "    2: 'building is located in a 250 x 250m grid cell that includes at least one RA1-consumption cell',\n",
    "    3: 'building is located in a 500 x 500m grid cell that includes at least one RA1-consumption cell',\n",
    "    4: 'building is located in a 1 x 1km grid cell that includes at least one RA1-consumption cell',\n",
    "    5: 'building is located in a 2 x 2km grid cell that includes at least one RA1-consumption cell',\n",
    "    6: 'building is located in a 10 x 10km grid cell that includes at least one RA1-consumption cell',\n",
    "    7: 'building is not located in a 10 x 10km range of a consumption cell'\n",
    "}\n",
    "\n",
    "sns.distplot(gen_pop['Bldg: Distance to Point of Sale Category'].dropna())"
   ]
  },
  {
   "cell_type": "markdown",
   "metadata": {},
   "source": [
    "This seems to effectively be a distance metric that can be used as a proxy to how urban or business-adjacent a building is. I see no reason to treat this one any differently than those that came before it. **Let's go ahead and just use the mode value of 1 for this one, since it's ordinal (and thus mean or median would be inappropriate).** I'm using the median instead of the mode here since this is ordinal in nature and could roughly be translated into a continuous distance variable with some interpolation."
   ]
  },
  {
   "cell_type": "markdown",
   "metadata": {},
   "source": [
    "<center> <b> My Imputation Plan </b> </center>\n",
    "\n",
    "Feature Name | % of Rows Missing Values | Imputation Approach\n",
    "--- | --- | ---\n",
    "Birth Year | 37% | Since Age Bin isn't missing any values, I'll use the midpoint of the bin for a given row as the Birth Year\n",
    "HH: Probability of Children in Residence | 1% | Drop the rows wherein this is missing\n",
    "Bldg: Number of HHs\t| < 1% | Impute using the median\n",
    "PLZ8: Number of Cars | < 1% | Impute using the median\n",
    "Bldg: Distance to Point of Sale Category | < 1% | Impute using mode"
   ]
  },
  {
   "cell_type": "code",
   "execution_count": null,
   "metadata": {},
   "outputs": [],
   "source": [
    "# If you've not yet cleaned the dataset of all NaN values, then investigate and\n",
    "# do that now.\n",
    "\n",
    "# Use Age Bin to impute Birth Year values, using midpoint of associated Age Bin to dictate year\n",
    "age_bin_map = {\n",
    "    1: '< 30 years old',\n",
    "    2: '30 - 45 years old',\n",
    "    3: '46 - 60 years old',\n",
    "    4: '> 60 years old'\n",
    "}\n",
    "\n",
    "# Assume data are all relative to 2017, as this is the maximum Birth Year value\n",
    "# Earliest Birth Year is 1900, making greatest age 117 \n",
    "    # Thus we'll assume 20 year midpoint for code 4 (assuming anyone 100+ is outlier)\n",
    "age_bin_to_year = {\n",
    "    1: 2002,\n",
    "    2: 1979,\n",
    "    3: 1963,\n",
    "    4: 1937\n",
    "}\n",
    "\n",
    "# Make a series that is a mapping of Age Bin to birth years\n",
    "mapped_series = gen_pop['Age Bin'].map(age_bin_to_year)\n",
    "\n",
    "# Use this mapped series and fillna() on Birth Year \n",
    "    # to take midpoint Age Bin year as Birth Year\n",
    "gen_pop['Birth Year'].fillna(mapped_series, inplace=True)\n"
   ]
  },
  {
   "cell_type": "code",
   "execution_count": null,
   "metadata": {},
   "outputs": [],
   "source": [
    "# Recompute missing values\n",
    "\n",
    "missing = pd.DataFrame(gen_pop.isnull().sum()).rename(columns = {0: 'total missing'})\n",
    "missing['percent missing'] = round(missing['total missing'] / len(gen_pop),2)\n",
    "missing.sort_values('total missing', ascending = False, inplace = True)\n",
    "missing"
   ]
  },
  {
   "cell_type": "code",
   "execution_count": null,
   "metadata": {},
   "outputs": [],
   "source": [
    "# Drop null rows for HH: Probability of Children in Residence\t\n",
    "gen_pop.dropna(subset=['HH: Probability of Children in Residence'],\n",
    "              inplace=True)"
   ]
  },
  {
   "cell_type": "code",
   "execution_count": null,
   "metadata": {},
   "outputs": [],
   "source": [
    "# Recompute missing values\n",
    "\n",
    "missing = pd.DataFrame(gen_pop.isnull().sum()).rename(columns = {0: 'total missing'})\n",
    "missing['percent missing'] = round(missing['total missing'] / len(gen_pop),2)\n",
    "missing.sort_values('total missing', ascending = False, inplace = True)\n",
    "missing"
   ]
  },
  {
   "cell_type": "code",
   "execution_count": null,
   "metadata": {},
   "outputs": [],
   "source": [
    "# Bldg: Number of HHs and PLZ8: Number of Cars - Impute using the median\n",
    "from sklearn.impute import SimpleImputer\n",
    "\n",
    "imp_median = SimpleImputer(strategy='median')\n",
    "\n",
    "gen_pop[['Bldg: Number of HHs', 'PLZ8: Number of Cars']] = \\\n",
    "imp_median.fit_transform(gen_pop[['Bldg: Number of HHs', \n",
    "                                  'PLZ8: Number of Cars']])"
   ]
  },
  {
   "cell_type": "code",
   "execution_count": null,
   "metadata": {},
   "outputs": [],
   "source": [
    "# Recompute missing values\n",
    "\n",
    "missing = pd.DataFrame(gen_pop.isnull().sum()).rename(columns = {0: 'total missing'})\n",
    "missing['percent missing'] = round(missing['total missing'] / len(gen_pop),2)\n",
    "missing.sort_values('total missing', ascending = False, inplace = True)\n",
    "missing"
   ]
  },
  {
   "cell_type": "code",
   "execution_count": null,
   "metadata": {},
   "outputs": [],
   "source": [
    "# Bldg: Distance to Point of Sale Category - Impute using mode\n",
    "imp_mode = SimpleImputer(strategy='most_frequent')\n",
    "\n",
    "gen_pop['Bldg: Distance to Point of Sale Category'] = \\\n",
    "imp_mode.fit_transform(gen_pop['Bldg: Distance to Point of Sale Category'].values.reshape(-1, 1))"
   ]
  },
  {
   "cell_type": "code",
   "execution_count": null,
   "metadata": {},
   "outputs": [],
   "source": [
    "# Recompute missing values\n",
    "\n",
    "missing = pd.DataFrame(gen_pop.isnull().sum()).rename(columns = {0: 'total missing'})\n",
    "missing['percent missing'] = round(missing['total missing'] / len(gen_pop),2)\n",
    "missing.sort_values('total missing', ascending = False, inplace = True)\n",
    "missing"
   ]
  },
  {
   "cell_type": "markdown",
   "metadata": {},
   "source": [
    "**There you go! No more missing values!**"
   ]
  },
  {
   "cell_type": "code",
   "execution_count": null,
   "metadata": {},
   "outputs": [],
   "source": [
    "# Apply feature scaling to the general population demographics data.\n",
    "\n",
    "# A StandardScaler instance is suggested, scaling each feature to mean 0 and standard deviation 1.\n",
    "\n"
   ]
  },
  {
   "cell_type": "markdown",
   "metadata": {},
   "source": [
    "### Discussion 2.1: Apply Feature Scaling\n",
    "\n",
    "(Double-click this cell and replace this text with your own text, reporting your decisions regarding feature scaling.)"
   ]
  },
  {
   "cell_type": "markdown",
   "metadata": {},
   "source": [
    "### Step 2.2: Perform Dimensionality Reduction\n",
    "\n",
    "On your scaled data, you are now ready to apply dimensionality reduction techniques.\n",
    "\n",
    "- Use sklearn's [PCA](http://scikit-learn.org/stable/modules/generated/sklearn.decomposition.PCA.html) class to apply principal component analysis on the data, thus finding the vectors of maximal variance in the data. To start, you should not set any parameters (so all components are computed) or set a number of components that is at least half the number of features (so there's enough features to see the general trend in variability).\n",
    "- Check out the ratio of variance explained by each principal component as well as the cumulative variance explained. Try plotting the cumulative or sequential values using matplotlib's [`plot()`](https://matplotlib.org/api/_as_gen/matplotlib.pyplot.plot.html) function. Based on what you find, select a value for the number of transformed features you'll retain for the clustering part of the project.\n",
    "- Once you've made a choice for the number of components to keep, make sure you re-fit a PCA instance to perform the decided-on transformation."
   ]
  },
  {
   "cell_type": "code",
   "execution_count": null,
   "metadata": {},
   "outputs": [],
   "source": [
    "# Apply PCA to the data.\n",
    "\n"
   ]
  },
  {
   "cell_type": "code",
   "execution_count": null,
   "metadata": {},
   "outputs": [],
   "source": [
    "# Investigate the variance accounted for by each principal component.\n",
    "\n"
   ]
  },
  {
   "cell_type": "code",
   "execution_count": null,
   "metadata": {},
   "outputs": [],
   "source": [
    "# Re-apply PCA to the data while selecting for number of components to retain.\n",
    "\n"
   ]
  },
  {
   "cell_type": "markdown",
   "metadata": {},
   "source": [
    "### Discussion 2.2: Perform Dimensionality Reduction\n",
    "\n",
    "(Double-click this cell and replace this text with your own text, reporting your findings and decisions regarding dimensionality reduction. How many principal components / transformed features are you retaining for the next step of the analysis?)"
   ]
  },
  {
   "cell_type": "markdown",
   "metadata": {},
   "source": [
    "### Step 2.3: Interpret Principal Components\n",
    "\n",
    "Now that we have our transformed principal components, it's a nice idea to check out the weight of each variable on the first few components to see if they can be interpreted in some fashion.\n",
    "\n",
    "As a reminder, each principal component is a unit vector that points in the direction of highest variance (after accounting for the variance captured by earlier principal components). The further a weight is from zero, the more the principal component is in the direction of the corresponding feature. If two features have large weights of the same sign (both positive or both negative), then increases in one tend expect to be associated with increases in the other. To contrast, features with different signs can be expected to show a negative correlation: increases in one variable should result in a decrease in the other.\n",
    "\n",
    "- To investigate the features, you should map each weight to their corresponding feature name, then sort the features according to weight. The most interesting features for each principal component, then, will be those at the beginning and end of the sorted list. Use the data dictionary document to help you understand these most prominent features, their relationships, and what a positive or negative value on the principal component might indicate.\n",
    "- You should investigate and interpret feature associations from the first three principal components in this substep. To help facilitate this, you should write a function that you can call at any time to print the sorted list of feature weights, for the *i*-th principal component. This might come in handy in the next step of the project, when you interpret the tendencies of the discovered clusters."
   ]
  },
  {
   "cell_type": "code",
   "execution_count": null,
   "metadata": {},
   "outputs": [],
   "source": [
    "# Map weights for the first principal component to corresponding feature names\n",
    "# and then print the linked values, sorted by weight.\n",
    "# HINT: Try defining a function here or in a new cell that you can reuse in the\n",
    "# other cells.\n",
    "\n"
   ]
  },
  {
   "cell_type": "code",
   "execution_count": null,
   "metadata": {},
   "outputs": [],
   "source": [
    "# Map weights for the second principal component to corresponding feature names\n",
    "# and then print the linked values, sorted by weight.\n",
    "\n"
   ]
  },
  {
   "cell_type": "code",
   "execution_count": null,
   "metadata": {},
   "outputs": [],
   "source": [
    "# Map weights for the third principal component to corresponding feature names\n",
    "# and then print the linked values, sorted by weight.\n",
    "\n"
   ]
  },
  {
   "cell_type": "markdown",
   "metadata": {},
   "source": [
    "### Discussion 2.3: Interpret Principal Components\n",
    "\n",
    "(Double-click this cell and replace this text with your own text, reporting your observations from detailed investigation of the first few principal components generated. Can we interpret positive and negative values from them in a meaningful way?)"
   ]
  },
  {
   "cell_type": "markdown",
   "metadata": {
    "toc-hr-collapsed": true
   },
   "source": [
    "## Step 3: Clustering\n",
    "\n",
    "### Step 3.1: Apply Clustering to General Population\n",
    "\n",
    "You've assessed and cleaned the demographics data, then scaled and transformed them. Now, it's time to see how the data clusters in the principal components space. In this substep, you will apply k-means clustering to the dataset and use the average within-cluster distances from each point to their assigned cluster's centroid to decide on a number of clusters to keep.\n",
    "\n",
    "- Use sklearn's [KMeans](http://scikit-learn.org/stable/modules/generated/sklearn.cluster.KMeans.html#sklearn.cluster.KMeans) class to perform k-means clustering on the PCA-transformed data.\n",
    "- Then, compute the average difference from each point to its assigned cluster's center. **Hint**: The KMeans object's `.score()` method might be useful here, but note that in sklearn, scores tend to be defined so that larger is better. Try applying it to a small, toy dataset, or use an internet search to help your understanding.\n",
    "- Perform the above two steps for a number of different cluster counts. You can then see how the average distance decreases with an increasing number of clusters. However, each additional cluster provides a smaller net benefit. Use this fact to select a final number of clusters in which to group the data. **Warning**: because of the large size of the dataset, it can take a long time for the algorithm to resolve. The more clusters to fit, the longer the algorithm will take. You should test for cluster counts through at least 10 clusters to get the full picture, but you shouldn't need to test for a number of clusters above about 30.\n",
    "- Once you've selected a final number of clusters to use, re-fit a KMeans instance to perform the clustering operation. Make sure that you also obtain the cluster assignments for the general demographics data, since you'll be using them in the final Step 3.3."
   ]
  },
  {
   "cell_type": "code",
   "execution_count": null,
   "metadata": {},
   "outputs": [],
   "source": [
    "# Over a number of different cluster counts...\n",
    "\n",
    "\n",
    "    # run k-means clustering on the data and...\n",
    "    \n",
    "    \n",
    "    # compute the average within-cluster distances.\n",
    "    \n",
    "    "
   ]
  },
  {
   "cell_type": "code",
   "execution_count": null,
   "metadata": {},
   "outputs": [],
   "source": [
    "# Investigate the change in within-cluster distance across number of clusters.\n",
    "# HINT: Use matplotlib's plot function to visualize this relationship.\n",
    "\n"
   ]
  },
  {
   "cell_type": "code",
   "execution_count": null,
   "metadata": {},
   "outputs": [],
   "source": [
    "# Re-fit the k-means model with the selected number of clusters and obtain\n",
    "# cluster predictions for the general population demographics data.\n",
    "\n"
   ]
  },
  {
   "cell_type": "markdown",
   "metadata": {},
   "source": [
    "### Discussion 3.1: Apply Clustering to General Population\n",
    "\n",
    "(Double-click this cell and replace this text with your own text, reporting your findings and decisions regarding clustering. Into how many clusters have you decided to segment the population?)"
   ]
  },
  {
   "cell_type": "markdown",
   "metadata": {},
   "source": [
    "### Step 3.2: Apply All Steps to the Customer Data\n",
    "\n",
    "Now that you have clusters and cluster centers for the general population, it's time to see how the customer data maps on to those clusters. Take care to not confuse this for re-fitting all of the models to the customer data. Instead, you're going to use the fits from the general population to clean, transform, and cluster the customer data. In the last step of the project, you will interpret how the general population fits apply to the customer data.\n",
    "\n",
    "- Don't forget when loading in the customers data, that it is semicolon (`;`) delimited.\n",
    "- Apply the same feature wrangling, selection, and engineering steps to the customer demographics using the `clean_data()` function you created earlier. (You can assume that the customer demographics data has similar meaning behind missing data patterns as the general demographics data.)\n",
    "- Use the sklearn objects from the general demographics data, and apply their transformations to the customers data. That is, you should not be using a `.fit()` or `.fit_transform()` method to re-fit the old objects, nor should you be creating new sklearn objects! Carry the data through the feature scaling, PCA, and clustering steps, obtaining cluster assignments for all of the data in the customer demographics data."
   ]
  },
  {
   "cell_type": "code",
   "execution_count": null,
   "metadata": {},
   "outputs": [],
   "source": [
    "# Load in the customer demographics data.\n",
    "customers = "
   ]
  },
  {
   "cell_type": "code",
   "execution_count": null,
   "metadata": {},
   "outputs": [],
   "source": [
    "# Apply preprocessing, feature transformation, and clustering from the general\n",
    "# demographics onto the customer data, obtaining cluster predictions for the\n",
    "# customer demographics data.\n",
    "\n"
   ]
  },
  {
   "cell_type": "markdown",
   "metadata": {},
   "source": [
    "### Step 3.3: Compare Customer Data to Demographics Data\n",
    "\n",
    "At this point, you have clustered data based on demographics of the general population of Germany, and seen how the customer data for a mail-order sales company maps onto those demographic clusters. In this final substep, you will compare the two cluster distributions to see where the strongest customer base for the company is.\n",
    "\n",
    "Consider the proportion of persons in each cluster for the general population, and the proportions for the customers. If we think the company's customer base to be universal, then the cluster assignment proportions should be fairly similar between the two. If there are only particular segments of the population that are interested in the company's products, then we should see a mismatch from one to the other. If there is a higher proportion of persons in a cluster for the customer data compared to the general population (e.g. 5% of persons are assigned to a cluster for the general population, but 15% of the customer data is closest to that cluster's centroid) then that suggests the people in that cluster to be a target audience for the company. On the other hand, the proportion of the data in a cluster being larger in the general population than the customer data (e.g. only 2% of customers closest to a population centroid that captures 6% of the data) suggests that group of persons to be outside of the target demographics.\n",
    "\n",
    "Take a look at the following points in this step:\n",
    "\n",
    "- Compute the proportion of data points in each cluster for the general population and the customer data. Visualizations will be useful here: both for the individual dataset proportions, but also to visualize the ratios in cluster representation between groups. Seaborn's [`countplot()`](https://seaborn.pydata.org/generated/seaborn.countplot.html) or [`barplot()`](https://seaborn.pydata.org/generated/seaborn.barplot.html) function could be handy.\n",
    "  - Recall the analysis you performed in step 1.1.3 of the project, where you separated out certain data points from the dataset if they had more than a specified threshold of missing values. If you found that this group was qualitatively different from the main bulk of the data, you should treat this as an additional data cluster in this analysis. Make sure that you account for the number of data points in this subset, for both the general population and customer datasets, when making your computations!\n",
    "- Which cluster or clusters are overrepresented in the customer dataset compared to the general population? Select at least one such cluster and infer what kind of people might be represented by that cluster. Use the principal component interpretations from step 2.3 or look at additional components to help you make this inference. Alternatively, you can use the `.inverse_transform()` method of the PCA and StandardScaler objects to transform centroids back to the original data space and interpret the retrieved values directly.\n",
    "- Perform a similar investigation for the underrepresented clusters. Which cluster or clusters are underrepresented in the customer dataset compared to the general population, and what kinds of people are typified by these clusters?"
   ]
  },
  {
   "cell_type": "code",
   "execution_count": null,
   "metadata": {},
   "outputs": [],
   "source": [
    "# Compare the proportion of data in each cluster for the customer data to the\n",
    "# proportion of data in each cluster for the general population.\n",
    "\n"
   ]
  },
  {
   "cell_type": "code",
   "execution_count": null,
   "metadata": {},
   "outputs": [],
   "source": [
    "# What kinds of people are part of a cluster that is overrepresented in the\n",
    "# customer data compared to the general population?\n",
    "\n"
   ]
  },
  {
   "cell_type": "code",
   "execution_count": null,
   "metadata": {},
   "outputs": [],
   "source": [
    "# What kinds of people are part of a cluster that is underrepresented in the\n",
    "# customer data compared to the general population?\n",
    "\n"
   ]
  },
  {
   "cell_type": "markdown",
   "metadata": {},
   "source": [
    "### Discussion 3.3: Compare Customer Data to Demographics Data\n",
    "\n",
    "(Double-click this cell and replace this text with your own text, reporting findings and conclusions from the clustering analysis. Can we describe segments of the population that are relatively popular with the mail-order company, or relatively unpopular with the company?)"
   ]
  },
  {
   "cell_type": "markdown",
   "metadata": {},
   "source": [
    "> Congratulations on making it this far in the project! Before you finish, make sure to check through the entire notebook from top to bottom to make sure that your analysis follows a logical flow and all of your findings are documented in **Discussion** cells. Once you've checked over all of your work, you should export the notebook as an HTML document to submit for evaluation. You can do this from the menu, navigating to **File -> Download as -> HTML (.html)**. You will submit both that document and this notebook for your project submission."
   ]
  },
  {
   "cell_type": "code",
   "execution_count": null,
   "metadata": {},
   "outputs": [],
   "source": []
  }
 ],
 "metadata": {
  "kernelspec": {
   "display_name": "Python [conda env:clustering]",
   "language": "python",
   "name": "conda-env-clustering-py"
  },
  "language_info": {
   "codemirror_mode": {
    "name": "ipython",
    "version": 3
   },
   "file_extension": ".py",
   "mimetype": "text/x-python",
   "name": "python",
   "nbconvert_exporter": "python",
   "pygments_lexer": "ipython3",
   "version": "3.6.8"
  },
  "toc": {
   "base_numbering": 1,
   "nav_menu": {},
   "number_sections": true,
   "sideBar": true,
   "skip_h1_title": false,
   "title_cell": "Table of Contents",
   "title_sidebar": "Contents",
   "toc_cell": false,
   "toc_position": {},
   "toc_section_display": true,
   "toc_window_display": false
  },
  "toc-autonumbering": false,
  "toc-showtags": false,
  "varInspector": {
   "cols": {
    "lenName": 16,
    "lenType": 16,
    "lenVar": 40
   },
   "kernels_config": {
    "python": {
     "delete_cmd_postfix": "",
     "delete_cmd_prefix": "del ",
     "library": "var_list.py",
     "varRefreshCmd": "print(var_dic_list())"
    },
    "r": {
     "delete_cmd_postfix": ") ",
     "delete_cmd_prefix": "rm(",
     "library": "var_list.r",
     "varRefreshCmd": "cat(var_dic_list()) "
    }
   },
   "types_to_exclude": [
    "module",
    "function",
    "builtin_function_or_method",
    "instance",
    "_Feature"
   ],
   "window_display": false
  }
 },
 "nbformat": 4,
 "nbformat_minor": 2
}
